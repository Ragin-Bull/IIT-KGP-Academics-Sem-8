{
 "cells": [
  {
   "cell_type": "markdown",
   "id": "7c3b9449",
   "metadata": {},
   "source": [
    "# Task -1:\n"
   ]
  },
  {
   "cell_type": "code",
   "execution_count": 12,
   "id": "dac308b8",
   "metadata": {},
   "outputs": [],
   "source": [
    "import spacy\n",
    "import re\n",
    "import pandas as pd"
   ]
  },
  {
   "cell_type": "code",
   "execution_count": 13,
   "id": "a025a26b",
   "metadata": {},
   "outputs": [
    {
     "data": {
      "text/html": [
       "<div>\n",
       "<style scoped>\n",
       "    .dataframe tbody tr th:only-of-type {\n",
       "        vertical-align: middle;\n",
       "    }\n",
       "\n",
       "    .dataframe tbody tr th {\n",
       "        vertical-align: top;\n",
       "    }\n",
       "\n",
       "    .dataframe thead th {\n",
       "        text-align: right;\n",
       "    }\n",
       "</style>\n",
       "<table border=\"1\" class=\"dataframe\">\n",
       "  <thead>\n",
       "    <tr style=\"text-align: right;\">\n",
       "      <th></th>\n",
       "      <th>Unnamed: 0</th>\n",
       "      <th>doc_id</th>\n",
       "      <th>doc_text</th>\n",
       "    </tr>\n",
       "  </thead>\n",
       "  <tbody>\n",
       "    <tr>\n",
       "      <th>0</th>\n",
       "      <td>0</td>\n",
       "      <td>1</td>\n",
       "      <td>What is the step by step guide to invest in sh...</td>\n",
       "    </tr>\n",
       "    <tr>\n",
       "      <th>1</th>\n",
       "      <td>1</td>\n",
       "      <td>2</td>\n",
       "      <td>What is the step by step guide to invest in sh...</td>\n",
       "    </tr>\n",
       "    <tr>\n",
       "      <th>2</th>\n",
       "      <td>2</td>\n",
       "      <td>3</td>\n",
       "      <td>What is the story of Kohinoor (Koh-i-Noor) Dia...</td>\n",
       "    </tr>\n",
       "    <tr>\n",
       "      <th>3</th>\n",
       "      <td>3</td>\n",
       "      <td>4</td>\n",
       "      <td>What would happen if the Indian government sto...</td>\n",
       "    </tr>\n",
       "    <tr>\n",
       "      <th>4</th>\n",
       "      <td>4</td>\n",
       "      <td>5</td>\n",
       "      <td>How can I increase the speed of my internet co...</td>\n",
       "    </tr>\n",
       "  </tbody>\n",
       "</table>\n",
       "</div>"
      ],
      "text/plain": [
       "   Unnamed: 0  doc_id                                           doc_text\n",
       "0           0       1  What is the step by step guide to invest in sh...\n",
       "1           1       2  What is the step by step guide to invest in sh...\n",
       "2           2       3  What is the story of Kohinoor (Koh-i-Noor) Dia...\n",
       "3           3       4  What would happen if the Indian government sto...\n",
       "4           4       5  How can I increase the speed of my internet co..."
      ]
     },
     "execution_count": 13,
     "metadata": {},
     "output_type": "execute_result"
    }
   ],
   "source": [
    "df = pd.read_csv(\"./Query_Doc/docs.csv\")\n",
    "queries = pd.read_csv(\"./Query_Doc/queries.csv\")\n",
    "\n",
    "df.head()"
   ]
  },
  {
   "cell_type": "code",
   "execution_count": 14,
   "id": "cc0aabcd",
   "metadata": {},
   "outputs": [
    {
     "data": {
      "text/html": [
       "<div>\n",
       "<style scoped>\n",
       "    .dataframe tbody tr th:only-of-type {\n",
       "        vertical-align: middle;\n",
       "    }\n",
       "\n",
       "    .dataframe tbody tr th {\n",
       "        vertical-align: top;\n",
       "    }\n",
       "\n",
       "    .dataframe thead th {\n",
       "        text-align: right;\n",
       "    }\n",
       "</style>\n",
       "<table border=\"1\" class=\"dataframe\">\n",
       "  <thead>\n",
       "    <tr style=\"text-align: right;\">\n",
       "      <th></th>\n",
       "      <th>Unnamed: 0</th>\n",
       "      <th>query_id</th>\n",
       "      <th>query_text</th>\n",
       "    </tr>\n",
       "  </thead>\n",
       "  <tbody>\n",
       "    <tr>\n",
       "      <th>0</th>\n",
       "      <td>0</td>\n",
       "      <td>4584</td>\n",
       "      <td>How can ask questions using photos?</td>\n",
       "    </tr>\n",
       "    <tr>\n",
       "      <th>1</th>\n",
       "      <td>1</td>\n",
       "      <td>6588</td>\n",
       "      <td>What is Atal Pension Yojana? What are its bene...</td>\n",
       "    </tr>\n",
       "    <tr>\n",
       "      <th>2</th>\n",
       "      <td>2</td>\n",
       "      <td>10113</td>\n",
       "      <td>Where is starch digested? How is it digested?</td>\n",
       "    </tr>\n",
       "    <tr>\n",
       "      <th>3</th>\n",
       "      <td>3</td>\n",
       "      <td>7957</td>\n",
       "      <td>What is a conjecture? What are some examples?</td>\n",
       "    </tr>\n",
       "    <tr>\n",
       "      <th>4</th>\n",
       "      <td>4</td>\n",
       "      <td>5498</td>\n",
       "      <td>What can India do to support the people suffer...</td>\n",
       "    </tr>\n",
       "  </tbody>\n",
       "</table>\n",
       "</div>"
      ],
      "text/plain": [
       "   Unnamed: 0  query_id                                         query_text\n",
       "0           0      4584                How can ask questions using photos?\n",
       "1           1      6588  What is Atal Pension Yojana? What are its bene...\n",
       "2           2     10113      Where is starch digested? How is it digested?\n",
       "3           3      7957      What is a conjecture? What are some examples?\n",
       "4           4      5498  What can India do to support the people suffer..."
      ]
     },
     "execution_count": 14,
     "metadata": {},
     "output_type": "execute_result"
    }
   ],
   "source": [
    "queries.head()"
   ]
  },
  {
   "cell_type": "code",
   "execution_count": 15,
   "id": "fc8c40eb",
   "metadata": {},
   "outputs": [],
   "source": [
    "nlp = spacy.blank(\"en\")"
   ]
  },
  {
   "cell_type": "markdown",
   "id": "206be121",
   "metadata": {},
   "source": [
    "### 1. Preprocessing of the docs and queries - removing the characters other than alphanumerics or whitespaces"
   ]
  },
  {
   "cell_type": "code",
   "execution_count": 16,
   "id": "4501989e",
   "metadata": {},
   "outputs": [
    {
     "name": "stdout",
     "output_type": "stream",
     "text": [
      "0    What is the step by step guide to invest in sh...\n",
      "1    What is the step by step guide to invest in sh...\n",
      "2    What is the story of Kohinoor  Koh i Noor  Dia...\n",
      "3    What would happen if the Indian government sto...\n",
      "4    How can I increase the speed of my internet co...\n",
      "Name: pure, dtype: object\n",
      "0                  How can ask questions using photos \n",
      "1    What is Atal Pension Yojana  What are its bene...\n",
      "2        Where is starch digested  How is it digested \n",
      "3        What is a conjecture  What are some examples \n",
      "4    What can India do to support the people suffer...\n",
      "Name: pure, dtype: object\n"
     ]
    }
   ],
   "source": [
    "def purify_docs(data):\n",
    "    purified_doc = re.sub(r'[^a-zA-Z0-9\\s]', ' ', data)\n",
    "    return purified_doc\n",
    "\n",
    "df['pure'] = (df['doc_text']).apply(purify_docs)\n",
    "queries['pure'] = (queries['query_text']).apply(purify_docs)\n",
    "\n",
    "# Display the DataFrame\n",
    "print(df['pure'].head())\n",
    "print(queries['pure'].head())"
   ]
  },
  {
   "cell_type": "markdown",
   "id": "c2c1b2dc",
   "metadata": {},
   "source": [
    "### 2. We need to correct the spellings in both queries and documents. For each query, which got corrected, we need to display the original and the corrected query on two spearate lines"
   ]
  },
  {
   "cell_type": "code",
   "execution_count": 17,
   "id": "d09adda2",
   "metadata": {},
   "outputs": [
    {
     "name": "stdout",
     "output_type": "stream",
     "text": [
      "Original Query: What is Atal Pension Yojana  What are its benefits \n",
      "Corrected Query: What is Atl Pension Yolanda  What are its benefits \n",
      "\n",
      "\n",
      "Original Query: Where is starch digested  How is it digested \n",
      "Corrected Query: Where is starch divested  How is it divested \n",
      "\n",
      "\n",
      "Original Query: Kindly tell me whole process of admission at vits Vellore for biotech i m a bio student in 12  I don t have math there \n",
      "Corrected Query: Kindly tell me whole process of admission at its Vellore for biotech i m a bio student in 12  I don t have math there \n",
      "\n",
      "\n",
      "Original Query: How does Quora look to a moderator \n",
      "Corrected Query: How does Quota look to a moderator \n",
      "\n",
      "\n",
      "Original Query: How much equity should I get as CTO co founder \n",
      "Corrected Query: How much equity should I get as TO co founder \n",
      "\n",
      "\n",
      "Original Query: Did Tywin sleep with Shae out of pure spite \n",
      "Corrected Query: Did Twin sleep with Sha out of pure spite \n",
      "\n",
      "\n",
      "Original Query: Why do people say Dhanush  South Indian actor  is ugly  I don t think so  \n",
      "Corrected Query: Why do people say Danish  South Indian actor  is ugly  I don t think so  \n",
      "\n",
      "\n",
      "Original Query: How can I get rid of cellulite on my stomach \n",
      "Corrected Query: How can I get rid of cellulose on my stomach \n",
      "\n",
      "\n",
      "Original Query: Who created the  GOD  \n",
      "Corrected Query: Who created the  OD  \n",
      "\n",
      "\n",
      "Original Query: How does the Laravel authentication work \n",
      "Corrected Query: How does the Travel authentication work \n",
      "\n",
      "\n",
      "Original Query: How is it to work with Satya Nadella \n",
      "Corrected Query: How is it to work with Satya Della \n",
      "\n",
      "\n",
      "Original Query: Is Syrio Forel a faceless man following Arya around being different people \n",
      "Corrected Query: Is Syria Fore a frameless man following Area around being different people \n",
      "\n",
      "\n",
      "Original Query: What is the Best way to learn Oracle HRMS \n",
      "Corrected Query: What is the Best way to learn Oracle HMS \n",
      "\n",
      "\n",
      "Original Query: What is the benefit to Quora \n",
      "Corrected Query: What is the benefit to Quota \n",
      "\n",
      "\n",
      "Original Query: How do you feel when someone upvotes your answer on Quora \n",
      "Corrected Query: How do you feel when someone votes your answer on Quota \n",
      "\n",
      "\n",
      "Original Query: Who are some famous people with low IQs \n",
      "Corrected Query: Who are some famous people with low Is \n",
      "\n",
      "\n",
      "Original Query: Which are the best and cheapest universities in the USA for doing an MS in computer science \n",
      "Corrected Query: Which are the best and cheapest universities in the USA for doing an M in computer science \n",
      "\n",
      "\n",
      "Original Query: Is there any other website similar to Quora \n",
      "Corrected Query: Is there any other website similar to Quota \n",
      "\n",
      "\n",
      "Original Query: What is Fiverr  and how do they make money \n",
      "Corrected Query: What is Five  and how do they make money \n",
      "\n",
      "\n",
      "Original Query: Why did Ecuador cut Julian Assange s Internet access \n",
      "Corrected Query: Why did Ecuador cut Julian Passage s Internet access \n",
      "\n",
      "\n",
      "Original Query: Do Trump voters care that he has reneged all his campaign promises \n",
      "Corrected Query: Do Trump voters care that he has renewed all his campaign promises \n",
      "\n",
      "\n"
     ]
    }
   ],
   "source": [
    "from autocorrect import Speller\n",
    "\n",
    "def rectify_sentences(text):\n",
    "    return spell(text)\n",
    "\n",
    "queries['rectified'] = queries['pure'].apply(rectify_sentences)\n",
    "df['rectified'] = df['pure'].apply(rectify_sentences)\n",
    "\n",
    "for index, row in queries.iterrows():\n",
    "    original_query = row['pure']\n",
    "    corrected_query = row['rectified']\n",
    "    if original_query != corrected_query:\n",
    "        print(f\"Original Query: {original_query}\")\n",
    "        print(f\"Corrected Query: {corrected_query}\")\n",
    "        print(\"\\n\")"
   ]
  }
 ],
 "metadata": {
  "kernelspec": {
   "display_name": "Python 3 (ipykernel)",
   "language": "python",
   "name": "python3"
  },
  "language_info": {
   "codemirror_mode": {
    "name": "ipython",
    "version": 3
   },
   "file_extension": ".py",
   "mimetype": "text/x-python",
   "name": "python",
   "nbconvert_exporter": "python",
   "pygments_lexer": "ipython3",
   "version": "3.10.12"
  }
 },
 "nbformat": 4,
 "nbformat_minor": 5
}
