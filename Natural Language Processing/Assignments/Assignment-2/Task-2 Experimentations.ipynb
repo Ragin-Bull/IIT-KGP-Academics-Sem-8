{
 "cells": [
  {
   "cell_type": "code",
   "execution_count": 29,
   "id": "d919870f",
   "metadata": {},
   "outputs": [],
   "source": [
    "import numpy as np\n",
    "from collections import defaultdict"
   ]
  },
  {
   "cell_type": "code",
   "execution_count": 30,
   "id": "992d7f5e",
   "metadata": {},
   "outputs": [
    {
     "name": "stdout",
     "output_type": "stream",
     "text": [
      "[['GUM_academic_art-1', '1', 'Aesthetic', 'JJ'], ['GUM_academic_art-1', '2', 'Appreciation', 'NN'], ['GUM_academic_art-1', '3', 'and', 'CC'], ['GUM_academic_art-1', '4', 'Spanish', 'JJ'], ['GUM_academic_art-1', '5', 'Art', 'NN'], ['GUM_academic_art-1', '6', ':', ':'], ['GUM_academic_art-2', '1', 'Insights', 'NNS'], ['GUM_academic_art-2', '2', 'from', 'IN'], ['GUM_academic_art-2', '3', 'Eye', 'NN'], ['GUM_academic_art-2', '4', '-', 'HYPH']]\n"
     ]
    }
   ],
   "source": [
    "# Parse the data: ONLY NEED TO WORK ON THIS: REST IS DONE!!\n",
    "def parseData(filePath):\n",
    "    data = []\n",
    "    \n",
    "    with open(filePath, 'r') as file:\n",
    "        sentId = \"\"\n",
    "        \n",
    "        for line in file:\n",
    "            line = line.strip()\n",
    "            if line.startswith(\"# sent_id\"):\n",
    "                newLine = line.split(\"=\")\n",
    "                newSentence = newLine[-1].strip()\n",
    "                sentId = newSentence\n",
    "                \n",
    "            elif line and not line.startswith(\"#\"):\n",
    "                divisions = line.split()\n",
    "                if len(divisions) >= 5:\n",
    "                    data.append([sentId, divisions[0], divisions[1], divisions[3]]) \n",
    "                    \n",
    "    return data\n",
    "\n",
    "\n",
    "data = parseData(\"./NLP2/train.txt\")\n",
    "print(data[:10])"
   ]
  },
  {
   "cell_type": "code",
   "execution_count": 31,
   "id": "da14e984",
   "metadata": {},
   "outputs": [],
   "source": [
    "# Perform the actions of LEFT ARC, RIGHT ARC, SHIFT and REDUCE\n",
    "def performAction(configuration, action):\n",
    "    stack, buffer, arcs = configuration   \n",
    "    topS = stack[-1] if stack else None\n",
    "    firstB = buffer[0] if buffer else None\n",
    "    \n",
    "    if action == \"LEFT-ARC\":\n",
    "        arcs.append((firstB, topS))\n",
    "        stack.pop()\n",
    "    elif action == \"RIGHT-ARC\":\n",
    "        arcs.append((topS, firstB))\n",
    "        stack.append(firstB)\n",
    "        buffer.pop(0)\n",
    "    elif action == \"REDUCE\":\n",
    "        stack.pop()\n",
    "    elif action == \"SHIFT\":\n",
    "        buffer.pop(0)\n",
    "        stack.append(firstB)\n",
    "        \n",
    "    return (stack, buffer, arcs)"
   ]
  },
  {
   "cell_type": "code",
   "execution_count": 32,
   "id": "bc302831",
   "metadata": {},
   "outputs": [
    {
     "name": "stdout",
     "output_type": "stream",
     "text": [
      "[] ['He', 'sent', 'her', 'a', 'letter', '.'] [] SHIFT\n",
      "['He'] ['sent', 'her', 'a', 'letter', '.'] [] LEFT-ARC\n",
      "[] ['sent', 'her', 'a', 'letter', '.'] [('sent', 'He')] SHIFT\n",
      "['sent'] ['her', 'a', 'letter', '.'] [('sent', 'He')] RIGHT-ARC\n",
      "['sent', 'her'] ['a', 'letter', '.'] [('sent', 'He'), ('sent', 'her')] SHIFT\n",
      "['sent', 'her', 'a'] ['letter', '.'] [('sent', 'He'), ('sent', 'her')] LEFT-ARC\n",
      "['sent', 'her'] ['letter', '.'] [('sent', 'He'), ('sent', 'her'), ('letter', 'a')] REDUCE\n",
      "['sent'] ['letter', '.'] [('sent', 'He'), ('sent', 'her'), ('letter', 'a')] RIGHT-ARC\n",
      "['sent', 'letter'] ['.'] [('sent', 'He'), ('sent', 'her'), ('letter', 'a'), ('sent', 'letter')] REDUCE\n",
      "['sent'] ['.'] [('sent', 'He'), ('sent', 'her'), ('letter', 'a'), ('sent', 'letter')] RIGHT-ARC\n"
     ]
    }
   ],
   "source": [
    "def oracle(configuration, DT):\n",
    "    stack, buffer, arcs = configuration\n",
    "    \n",
    "    topS = stack[-1] if stack else None\n",
    "    firstB = buffer[0] if buffer else None\n",
    "\n",
    "    if firstB and topS and (firstB, topS) in DT and topS not in [D for H, D in arcs]:\n",
    "        return \"LEFT-ARC\"\n",
    "    elif topS and firstB and (topS, firstB) in DT:\n",
    "        return \"RIGHT-ARC\"\n",
    "    elif topS and firstB and topS in [D for H, D in arcs]:\n",
    "        for word in reversed(stack[:-1]):\n",
    "            if (word, firstB) in DT or (firstB, word) in DT:\n",
    "                return \"REDUCE\"\n",
    "    return \"SHIFT\"\n",
    "\n",
    "stack = []\n",
    "buffer = ['He', 'sent', 'her', 'a', 'letter', '.']\n",
    "arcs = []\n",
    "dependency_tree = [('sent', 'He'), ('sent', 'her'), ('letter', 'a'), ('sent', 'letter'), ('sent', '.')]\n",
    "\n",
    "while buffer:\n",
    "    action = oracle((stack, buffer, arcs), dependency_tree)\n",
    "    print(stack, buffer, arcs, action)\n",
    "    T.append(((stack, buffer, arcs),action))\n",
    "    stack, buffer, arcs = performAction((stack, buffer, arcs), action)\n"
   ]
  },
  {
   "cell_type": "code",
   "execution_count": 6,
   "id": "86ef7e29",
   "metadata": {},
   "outputs": [],
   "source": [
    "def getBOW (word, getIndex):\n",
    "    if word is None:\n",
    "        return [0] * len(getIndex)\n",
    "    else:\n",
    "        index = getIndex[word]\n",
    "        return [1 if i == index else 0 for i in range(len(getIndex))]"
   ]
  },
  {
   "cell_type": "code",
   "execution_count": 3,
   "id": "14df1a42",
   "metadata": {},
   "outputs": [],
   "source": [
    "def getFeatureModel(configuration, index, pos, depT):\n",
    "    stack, buffer, arcs = configuration\n",
    "    heads = defaultdict(str)\n",
    "    \n",
    "    # pos is 2d array of dictionary from string to string i.e. [dict{string : string}]\n",
    "    # dep is 2d array of dictionary from string to string which gives us the modifier for a non head word\n",
    "    topS = stack[-1] if stack else None\n",
    "    firstB = buffer[0] if buffer else None\n",
    "    posTagTopS = pos[index][topS] if topS else None\n",
    "    posTagFirstB = pos[index][topS] if firstB else None\n",
    "    posTagSecondB = pos[index][buffer[1]] if len(buffer) > 1 else None\n",
    "    \n",
    "    topDep = None\n",
    "    topLDep = None\n",
    "    topRDep = None\n",
    "    firstLDep = None\n",
    "    \n",
    "    for head, depTag in arcs:\n",
    "        if topS and head == topS:\n",
    "            topDep = depTag\n",
    "            if not topLDep:\n",
    "                topLDep = depTag\n",
    "            topRDep = depTag\n",
    "        \n",
    "        if firstB and head == firstB:\n",
    "            if not firstLDep:\n",
    "                firstLDep = depTag\n",
    "                \n",
    "    topDep = depT[index][topDep] if topDep and depT[index][topDep] else None\n",
    "    topLDep = depT[index][topLDep] if topLDep and depT[index][topLDep] else None\n",
    "    topRDep = depT[index][topRDep] if topRDep and depT[index][topRDep] else None\n",
    "    firstLDep = depT[index][firstLDep] if firstLDep and depT[index][firstLDep] else None\n",
    "    \n",
    "    \n",
    "    # We need to find the bag of words value of the conditions\n",
    "    # words : dictionary of indices of all unique words to be used in the problem\n",
    "    # posTags : dictionary of indices of all unique pos tages to be used in this problem\n",
    "    # depTags : dictionary of indices of all unique posTags to be used in this problem\n",
    "    \n",
    "    tops = BOW(topS, words)\n",
    "    first = BOW(firstB, words)\n",
    "    posTop = BOW(posTagTopS, posTags)\n",
    "    posFirst = BOW(posTagFirstB, posTags)\n",
    "    posSecond = BOW(posTagSecondB, posTags)\n",
    "    topDeps = BOW(topDep, depTags)\n",
    "    topLDeps = BOW(topLDep, depTags)\n",
    "    topRDeps = BOW(topRDep, depTags)\n",
    "    firstLDeps = BOW(firstLDep, depTags)\n",
    "    \n",
    "    fM =  tops + first + posTop + posFirst + posSecond + topDeps + topLDeps + topRDeps + firstLDeps\n",
    "    fM = fM + fM + fM + fM \n",
    "    \n",
    "    return fM"
   ]
  },
  {
   "cell_type": "code",
   "execution_count": 6,
   "id": "8b300be0",
   "metadata": {},
   "outputs": [],
   "source": [
    "transitionValue = {\n",
    "    \"LEFT-ARC\" : 0, \"RIGHT-ARC\" : 1, \"REDUCE\" : 2, \"SHIFT\" : 3\n",
    "}\n",
    "\n",
    "getAction = [\"LEFT-ARC\", \"RIGHT-ARC\", \"REDUCE\", \"SHIFT\"]"
   ]
  },
  {
   "cell_type": "code",
   "execution_count": 12,
   "id": "6fcf3d0c",
   "metadata": {},
   "outputs": [],
   "source": [
    "def performComputation(fM, v, action):\n",
    "    result = [0] * len(fM)\n",
    "    \n",
    "    if action == 'LEFT-ARC':\n",
    "        result[:v] = [1] * v\n",
    "    elif action == 'RIGHT-ARC':\n",
    "        result[v:2*v] = [1] * v\n",
    "    elif action == 'REDUCE':\n",
    "        result[2*v:3*v] = [1] * v\n",
    "    elif action == 'SHIFT':\n",
    "        result[3*v:] = [1] * v\n",
    "        \n",
    "    return [fm * res for fm, res in zip(fM, result)]\n",
    "        \n",
    "\n",
    "def dotProduct(weights, features):\n",
    "    sumValue = 0.0\n",
    "    for i in range(min(len(weights), len(features))):\n",
    "        sumValue += weights[i]*features[i]"
   ]
  },
  {
   "cell_type": "code",
   "execution_count": 13,
   "id": "556d7d00",
   "metadata": {},
   "outputs": [],
   "source": [
    "# Online Learning Algorithm\n",
    "# DT should be a 2D array of tupes head -> dep for each token\n",
    "# listOfConfigs is a 2D vector of tokenized words in buffer, arcs and stack being empty\n",
    "def learnTheWeights(listOfConfigurations, maxIters, DT):\n",
    "    v = (2*len(words) + 3*len(posTags) + 4*len(depTags))\n",
    "    w = [1.1] * 4 * v\n",
    "    for i in range(maxIters):\n",
    "        for j in range(len(listOfConfigurations)):\n",
    "            c = listOfConfigurations[j]\n",
    "            stack, buffer, arc = c\n",
    "            maxValue = -inf\n",
    "            trainingAction = \"LEFT-ARC\"\n",
    "            features = []\n",
    "            while buffer:\n",
    "                fM = getFeatureModel(c, j)\n",
    "                for action in getAction:\n",
    "                    newFeatureVector = performComputation(fM, v, action)\n",
    "                    value = dotProduct(newFeatureVector, w)\n",
    "                    \n",
    "                    if value > maxValue:\n",
    "                        value = maxValue\n",
    "                        features = newFeatureVector\n",
    "                        trainingAction = action\n",
    "                \n",
    "                oracleAction = oracle(c, DT[j])\n",
    "                \n",
    "                if trainingAction != oracleAction:\n",
    "                    w = w + performComputation(fM, v, oracleAction) - performComputation(fM, v, trainingAction)\n",
    "                stack, buffer, arc = performAction(c, oracleAction)\n",
    "        \n",
    "        return w        "
   ]
  },
  {
   "cell_type": "code",
   "execution_count": 11,
   "id": "d7b61134",
   "metadata": {},
   "outputs": [
    {
     "name": "stdout",
     "output_type": "stream",
     "text": [
      "[0, 0, 0, 0, 5, 6, 0, 0]\n"
     ]
    }
   ],
   "source": [
    "# Online Learning Algorithm:\n",
    "Result = []\n",
    "# testData is the list of Initial Configs for all test data\n",
    "# Note: we need to gather the features over both the training as well as the test examples\n",
    "def defineDependencyGraph(testData):\n",
    "    for i in range(len(testData)):\n",
    "        c = testData[i]\n",
    "        stack, buffer, arcs = c\n",
    "        maxValue = -inf\n",
    "        trainingAction = \"LEFT-ARC\"\n",
    "        features = []\n",
    "        while buffer:\n",
    "            fM = getFeatureModel(c, i+2000)\n",
    "            for action in getAction:\n",
    "                newFeatureVector = performComputation(fM, v, action)\n",
    "                value = dotProduct(newFeatureVector, w)\n",
    "                    \n",
    "                if value > maxValue:\n",
    "                    value = maxValue\n",
    "                    features = newFeatureVector\n",
    "                    trainingAction = action\n",
    "            stack, buffer, arc = performAction(c, trainingAction)\n",
    "            \n",
    "        Result.append(arcs)"
   ]
  },
  {
   "cell_type": "code",
   "execution_count": null,
   "id": "16825eae",
   "metadata": {},
   "outputs": [],
   "source": []
  }
 ],
 "metadata": {
  "kernelspec": {
   "display_name": "Python 3 (ipykernel)",
   "language": "python",
   "name": "python3"
  },
  "language_info": {
   "codemirror_mode": {
    "name": "ipython",
    "version": 3
   },
   "file_extension": ".py",
   "mimetype": "text/x-python",
   "name": "python",
   "nbconvert_exporter": "python",
   "pygments_lexer": "ipython3",
   "version": "3.10.12"
  }
 },
 "nbformat": 4,
 "nbformat_minor": 5
}
