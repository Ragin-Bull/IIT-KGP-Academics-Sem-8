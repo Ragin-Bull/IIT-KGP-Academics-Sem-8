{
 "cells": [
  {
   "cell_type": "code",
   "execution_count": 1,
   "id": "e765150e",
   "metadata": {},
   "outputs": [],
   "source": [
    "from collections import defaultdict\n",
    "from sklearn.metrics import accuracy_score, precision_score, recall_score, f1_score\n",
    "import re\n",
    "import numpy as np"
   ]
  },
  {
   "cell_type": "code",
   "execution_count": 2,
   "id": "6db35daa",
   "metadata": {},
   "outputs": [],
   "source": [
    "def parseData(filePath):\n",
    "    data = []\n",
    "    listOfSentences = []\n",
    "    \n",
    "    with open(filePath, 'r') as file:\n",
    "        sentId = \"\"\n",
    "        \n",
    "        for line in file:\n",
    "            line = line.strip()\n",
    "            if line.startswith(\"# sent_id\"):\n",
    "                newLine = line.split(\"=\")\n",
    "                newSentence = newLine[-1].strip()\n",
    "                sentId = newSentence\n",
    "            \n",
    "            elif line.startswith(\"# text\"):\n",
    "                newLine = line.split(\"=\")\n",
    "                newSentence = newLine[-1].strip()\n",
    "                listOfSentences.append(newSentence)\n",
    "                \n",
    "                \n",
    "            elif line and not line.startswith(\"#\"):\n",
    "                divisions = line.split()\n",
    "                if len(divisions) >= 5:\n",
    "                    data.append([sentId, divisions[0], divisions[1], divisions[3]])\n",
    "                    \n",
    "                    \n",
    "    return data, listOfSentences\n",
    "\n",
    "\n",
    "data, trainSentences = parseData(\"./NLP2/train.txt\")"
   ]
  },
  {
   "cell_type": "code",
   "execution_count": 3,
   "id": "a56ec73d",
   "metadata": {},
   "outputs": [],
   "source": [
    "def calculateTagProbs(data):\n",
    "    tagsAfterTagsCounts = defaultdict(lambda : defaultdict(int))\n",
    "    tagCounts = defaultdict(int)\n",
    "    tagProbs = defaultdict(lambda : defaultdict(float))\n",
    "    \n",
    "    for i in range(len(data)-1):\n",
    "        currentTag = data[i][3]\n",
    "        nextTag = data[i+1][3]\n",
    "        tagsAfterTagsCounts[currentTag][nextTag] += 1\n",
    "        tagCounts[currentTag] += 1\n",
    "        \n",
    "    for current, nextDict in tagsAfterTagsCounts.items():\n",
    "        for nextT, count in nextDict.items():\n",
    "            tagProbs[current][nextT] = count / tagCounts[current]\n",
    "    \n",
    "    return tagProbs\n",
    "\n",
    "def calculateWordTagProbs(data):\n",
    "    vocabularySet = set([])\n",
    "    wordTagCounts = defaultdict(lambda: defaultdict(int))\n",
    "    wordTagProbs = defaultdict(lambda: defaultdict(float))\n",
    "    tagCounts = defaultdict(int)\n",
    "    wordCounts = defaultdict(int)\n",
    "    \n",
    "    for i in range(len(data)):\n",
    "        tag = data[i][3]\n",
    "        word = data[i][2]\n",
    "        wordTagCounts[tag][word] += 1\n",
    "        tagCounts[tag]+=1\n",
    "        vocabularySet.add(word)\n",
    "    \n",
    "    tagCnts = len(tagCounts)\n",
    "        \n",
    "    for tag, words in wordTagCounts.items():\n",
    "        for word, count in words.items():\n",
    "            wordTagProbs[tag][word] = (count + 1) / tagCounts[tag]\n",
    "    \n",
    "    return wordTagProbs, tagCnts, vocabularySet, wordTagCounts, tagCounts"
   ]
  },
  {
   "cell_type": "code",
   "execution_count": 4,
   "id": "03136322",
   "metadata": {},
   "outputs": [],
   "source": [
    "def viterbi(sentence, tagProbs, wordTagProbs):\n",
    "    v = [{1: \"a\"}]\n",
    "    pathFollowed = {}\n",
    "    \n",
    "    # Base Case:\n",
    "    for tag in wordTagProbs.keys():\n",
    "        v[0][tag] = (1/tagCnts)*wordTagProbs[tag][sentence[0]]\n",
    "        pathFollowed[tag] =[tag]\n",
    "    \n",
    "    # Recursive case\n",
    "    for t in range(1, len(sentence)):\n",
    "        v.append({})\n",
    "        newpath = {}\n",
    "\n",
    "        for tag in wordTagProbs.keys():\n",
    "            (prob, state) = max((v[t-1][prevTag] * tagProbs[prevTag][tag] * wordTagProbs[tag][sentence[t]], prevTag)\n",
    "                                for prevTag in wordTagProbs.keys())\n",
    "            v[t][tag] = prob\n",
    "            newpath[tag] = pathFollowed[state] + [tag]\n",
    "\n",
    "        pathFollowed = newpath\n",
    "    \n",
    "    \n",
    "    n = len(sentence) - 1\n",
    "    (prob, state) = max((v[n][tag], tag) for tag in wordTagProbs.keys())\n",
    "    \n",
    "    return [prob, pathFollowed[state]]"
   ]
  },
  {
   "cell_type": "code",
   "execution_count": 5,
   "id": "4d521b4b",
   "metadata": {},
   "outputs": [
    {
     "data": {
      "text/plain": [
       "['PRP', 'VBP', 'DT', 'NN', '.']"
      ]
     },
     "execution_count": 5,
     "metadata": {},
     "output_type": "execute_result"
    }
   ],
   "source": [
    "# We need to perform add one smoothing on the training as well as the test data\n",
    "# No need to perform smoothing on the tag probs\n",
    "sentence = [\"I\", \"am\", \"a\", \"boy\", \".\"]\n",
    "wordTagProbs, tagCnts, vocabularySet, x, y = calculateWordTagProbs(data)\n",
    "tagProbs = calculateTagProbs(data)\n",
    "viterbi(sentence, tagProbs, wordTagProbs)[1]"
   ]
  },
  {
   "cell_type": "code",
   "execution_count": 14,
   "id": "81431edd",
   "metadata": {},
   "outputs": [
    {
     "name": "stdout",
     "output_type": "stream",
     "text": [
      "[['DT', 'NN', 'IN', 'NN', 'IN', 'JJ', 'NNS', 'IN', 'JJ', 'NNP', ':'], ['NNS', 'IN', 'DT', 'RB', 'JJ', 'NN', 'IN', 'NNS'], ['NN', '.'], ['JJ', 'NNS', 'IN', 'NN', 'CC', 'NN', 'VBP', 'VBN', 'DT', 'NN', 'IN', 'JJ', 'JJ', 'NN', 'NN', '.', '-LRB-', 'CD', 'SYM', 'CD', '-RRB-'], ['NNS', 'VBP', 'VBN', 'DT', 'JJ', 'NNS', 'IN', 'NN', '-LRB-', 'CD', 'SYM', 'CD', '-RRB-', ':'], ['NNS', 'VBP', 'VBN', 'DT', 'JJ', 'NNS', 'WDT', 'VBP', 'JJ', 'CC', 'JJ', 'NNS', '-LRB-', 'CD', '-RRB-', ':'], ['NNS', 'VBP', 'VBN', 'DT', 'JJ', 'NNS', 'IN', 'NN', '-LRB-', 'CD', 'SYM', 'CD', '-RRB-', ':'], ['CC', 'JJ', 'NNS', 'VBP', 'VBN', 'DT', 'JJ', 'NNS', 'IN', 'IN', 'HYPH', 'NN', 'SYM', 'IN', 'HYPH', 'NN', 'NNS', 'VBD', 'IN', 'DT', 'NN', 'IN', 'PRP$', 'NN', '.', '-LRB-', 'CD', '-RRB-'], ['IN', 'JJ', 'NNS', ',', 'NNS', 'RB', 'VBP', 'DT', 'NN', 'IN', 'NN', 'VBG', 'DT', 'NNS', 'CC', 'NNS', 'IN', 'NN', 'CC', 'NN', '.', '-LRB-', 'CD', '-RRB-'], ['WP', 'RB', 'MD', 'RB', 'VB', 'VBN', 'IN', 'NN', 'IN', 'NN', 'VBZ', 'DT', 'VBG', 'NN', 'TO', 'VB', 'JJ', 'NN', 'VBN', 'IN', 'VBG', 'DT', 'NN', 'IN', 'JJ', 'NNS', '.'], ['JJ', 'NN', 'NNS', 'IN', 'JJ', 'NNS', ',', 'IN', 'NN', ',', 'VBP', 'VBN', 'TO', 'VB', 'NN', 'IN', 'DT', 'NN', 'IN', 'VBG', 'DT', 'NN', 'IN', 'NNS', 'VBG', 'DT', 'NNS', 'VBG', 'NN', 'NN', 'NNS', '.', '-LRB-', 'CD', '-RRB-'], ['RB', ',', 'DT', 'NN', 'IN', 'JJ', 'NNS', 'VBZ', 'VBN', 'IN', 'DT', 'NN', 'IN', 'NN', 'CC', 'NNS', 'VBP', ',', 'IN', 'JJS', 'IN', 'DT', 'JJ', 'NN', ',', 'JJ', 'IN', 'JJ', 'NN', '.'], ['RB', 'RB', ',', 'NNS', 'IN', 'DT', 'NN', 'IN', 'VBN', 'NN', 'VBZ', 'JJ', '-LRB-', 'VB', '-LRB-', 'CD', 'SYM', 'CD', '-RRB-', '-RRB-', '.'], ['IN', 'JJS', 'CD', 'JJ', 'NN', 'IN', 'NNP', 'CC', 'NNS', '-LRB-', 'CD', '-RRB-', ',', 'RB', ',', 'VBG', 'NNS', 'IN', 'VBN', 'NN', 'IN', 'DT', 'JJ', 'JJ', 'NN', ',', 'VBD', 'IN', 'RB', 'CD', 'NN', 'IN', 'NNS', 'VBD', 'DT', 'NN', 'IN', 'NN', '-LRB-', 'VB', 'RB', ',', 'NNP', 'FW', 'FW', '-LRB-', 'CD', '-RRB-', '-RRB-', '.'], ['DT', 'JJ', 'NN', 'VBZ', 'TO', 'VB', 'IN', 'DT', 'NN', 'IN', 'VBG', 'DT', 'NN', 'IN', 'NN', 'NNS', 'IN', 'DT', 'JJ', ',', 'RB', 'JJ', 'NN', 'IN', 'NNS', 'IN', 'DT', 'NNP', 'NNPS', '.'], ['RB', ',', 'DT', 'NN', 'VBP', 'DT', 'VBN', 'NNS', 'IN', 'VBN', 'NN', 'NNS', '.'], ['NN', 'IN', 'NN', '.'], ['DT', 'NNS', 'WP', 'VBD', 'PRP', 'VBD', 'VBN', 'IN', ':', 'RB', ',', 'DT', 'WP', 'VBD', 'IN', 'RB', 'CC', 'RB', 'IN', 'DT', 'VBN', 'NN', 'NN', 'VBN', 'RB', ':', 'VBD', 'VBN', 'DT', 'VBG', 'NN', ':'], ['``', 'WP', 'VBP', 'PRP', 'VB', 'VBD', 'DT', 'JJ', 'NN', 'IN', 'DT', 'NNS', '.', \"''\"], ['NNS', 'VBD', 'VBN', 'TO', 'VB', 'CD', 'NN', 'IN', 'CD', 'NNS', '.'], ['IN', 'DT', 'JJ', 'NN', ',', 'DT', 'NNS', 'VBD', 'VBN', 'IN', 'CD', 'RB', 'JJ', 'NNS', 'VBG', 'DT', 'VBG', 'NNS', ':'], ['NN', 'SYM', 'NN', 'SYM', 'NN', 'NN', ':'], ['NN', ':'], ['NN', ':'], ['NN', ':'], ['NN', 'CC', 'NN', ':'], ['JJ', 'NN', ':'], ['NN', 'CC', 'NN', ':'], ['JJ', 'NN', ':'], ['CC', 'JJ', '.'], ['DT', 'VBG', 'NNS', 'IN', 'DT', 'JJ', 'NN', 'VBD', 'VBN', 'IN', 'CD', 'NN', 'IN', 'DT', 'NN', ':', 'NN', ':', 'NN', 'CC', 'JJ', 'NN', ':', 'CC', 'NN', 'IN', 'NN', 'NN', '.'], ['RB', ',', 'IN', 'DT', 'NN', 'VBD', 'RB', 'VBN', 'IN', 'NNS', 'WP', 'VBD', 'JJ', 'NN', 'NNS', ',', 'DT', 'VBN', 'HYPH', 'RP', 'NN', 'NN', 'VBD', 'IN', 'DT', 'JJ', 'NN', 'IN', 'NNS', 'VBN', 'IN', 'JJ', '-LRB-', 'JJ', 'NN', '-RRB-', '.'], ['NN', 'NN', '.'], ['IN', 'DT', 'NN', 'NN', 'VBZ', 'RB', 'JJ', 'IN', 'DT', 'NNP', 'CD', 'NNS', ',', 'PRP', 'VBP', 'DT', 'JJ', 'NN', 'VBN', 'IN', 'DT', 'NN', 'IN', 'DT', 'NNP', 'CD', 'NN', '.'], ['NNP', 'CD', 'NN', ':', 'RB', 'IN', ',', 'VB', ',', 'NNP', 'CD', 'NN', ':', 'VBD', 'VBN', 'TO', 'VB', 'NN', 'NNS', '.'], ['DT', 'NN', 'VBZ', 'IN', '-LRB-', 'RB', '-RRB-', 'DT', 'NNP', 'CD', 'NNS', 'VBD', 'IN', 'DT', 'NNP', 'CD', 'NN', ',', 'CC', 'RB', 'DT', 'MD', 'VB', 'VBN', 'VBN', 'IN', 'NNP', 'CD', 'JJ', 'IN', 'JJ', 'NNS', 'IN', 'JJ', 'NN', '.'], ['NNS', 'VBD', 'VBN', 'TO', 'VB', 'PRP$', 'NN', 'IN', 'IN', 'DT', 'VBG', 'NNS', ':', 'NNP', ':', 'NNP', 'CC', 'NNP', 'NNP', ':', 'NNP', ':', 'NNP', 'NNP', 'CC', 'NNP', 'NNP', ':', 'CC', 'NNP', 'CC', 'NNP', 'NNP', '.'], ['NNS', 'VBD', 'VBN', 'DT', 'NN', 'TO', 'VB', 'RBR', 'IN', 'CD', 'NN', ',', 'CC', 'DT', 'WP', 'VBD', 'VBD', 'VBN', 'DT', 'NN', 'HYPH', 'RP', 'NN', 'VBG', 'WDT', 'NN', 'RBS', 'VBD', 'PRP$', 'JJ', 'NN', '.'], ['IN', 'DT', 'JJ', 'NN', ',', 'DT', 'NNS', 'WP', 'VBD', 'RBR', 'IN', 'CD', 'NN', 'VBD', 'VBN', 'IN', '``', 'VBN', 'NN', \"''\", '.'], ['JJ', 'NNS', '.'], ['TO', 'VB', 'NN', 'IN', 'DT', 'JJ', 'NN', 'IN', 'DT', 'NN', ',', 'CD', 'JJ', 'JJ', 'NNS', 'VBP', 'VBN', '.'], ['RB', ',', 'NN', 'VBZ', 'DT', 'JJ', 'NN', 'VBN', 'IN', 'VBG', 'DT', 'NN', 'IN', 'DT', '_', 'NNS', 'POS', 'NN', '-LRB-', 'VBN', 'IN', 'NNP', 'CD', '-RRB-', 'IN', 'DT', 'NN', 'IN', 'DT', 'NN', 'IN', 'NNP', 'CD', '.'], ['RB', ',', 'NN', 'VBD', 'RB', 'VBN', 'VBN', 'IN', 'DT', 'NN', 'HYPH', 'VBN', 'NN', 'IN', 'DT', 'NN', 'IN', 'NNP', 'CD', '-LRB-', 'CD', 'SYM', 'JJ', 'CC', 'CD', 'SYM', 'JJ', '-RRB-', '.'], ['JJ', 'NN', '.'], ['PRP$', 'JJ', 'NN', 'VBD', 'CD', 'JJ', 'NNS', '.'], ['RB', ',', 'NN', 'NNS', 'IN', 'DT', 'NN', 'NNS', 'CC', 'JJ', 'NNS', 'VBD', 'VBN', '.'], ['RB', ',', 'PRP', 'VBD', 'DT', 'JJ', 'NNS', 'IN', 'DT', 'CD', 'NN', 'NN', 'NNS', 'IN', 'DT', 'JJ', 'NN', '.'], ['RB', ',', 'PRP', 'VBD', 'DT', 'NN', 'IN', 'VBN', 'NNS', 'IN', 'NN', 'IN', 'DT', 'JJ', 'NNS', '.'], ['IN', 'NN', 'TO', 'VB', 'JJ', 'JJ', 'NNS', ',', 'DT', 'VBN', 'NN', 'NN', '-LRB-', 'NN', 'HYPH', 'VBN', 'NN', '-RRB-', 'VBD', 'VBN', 'IN', 'PRP', 'VBZ', 'IN', 'DT', 'JJ', 'NN', 'NN', 'JJ', 'IN', 'DT', 'VBN', 'IN', 'DT', 'NNP', 'NNP', '.', '-LRB-', 'CD', '-RRB-'], ['RBR', 'RB', ',', 'WRB', 'VBG', 'VBN', 'NN', 'NNS', 'VBG', 'DT', 'NNP', 'NN', 'IN', 'NNS', 'IN', 'NNP', 'DT', 'JJ', 'NNP', 'SYM', 'NN', 'NN', 'IN', 'NN', 'VBZ', 'VBN', 'IN', '``', 'DT', 'NN', 'NN', 'IN', 'JJ', 'NNS', 'IN', 'NN', 'IN', 'VBG', 'DT', 'JJ', 'HYPH', 'JJ', 'NNP', 'CC', 'NNP', '-LRB-', 'CD', '-LRB-', 'CD', '-RRB-', ',', 'CD', '-LRB-', 'CD', '-RRB-', '-RRB-', 'NN', \"''\", '.', '-LRB-', 'CD', '-RRB-'], ['DT', 'NN', 'HYPH', 'NN', 'VBN', 'IN', 'DT', 'NN', 'HYPH', 'VBN', 'NN', 'VBZ', 'RB', 'RBR', 'JJ', '-LRB-', 'IN', 'DT', 'VBN', 'IN', 'DT', 'SYM', 'NN', '-RRB-', 'VBN', 'DT', 'NNS', 'CC', 'NNS', 'VBP', 'IN', 'NN', 'DT', 'VBN', 'NN', 'IN', 'DT', 'NNS', '.'], ['DT', 'JJ', 'NN', 'RB', 'VBD', 'DT', 'NN', 'IN', 'DT', 'JJ', 'NN', 'IN', 'JJ', 'NNS', 'IN', 'DT', 'JJ', 'VBN', 'NNS', 'IN', 'NN', '.'], ['IN', 'VBN', 'RBR', ',', 'DT', 'NNS', 'VBD', 'VBN', 'VBG', 'IN', 'DT', 'NN', 'NN', 'VBN', 'IN', 'DT', 'NNP', 'NNP', 'NN', 'NN', 'CC', 'JJ', 'NNS', 'VBD', 'VBN', 'IN', 'DT', 'NN', 'CC', 'NN', 'WDT', 'VBD', 'DT', 'NN', 'NN', '.'], ['RB', ',', 'DT', 'NNS', 'VBN', 'RB', 'MD', 'VB', 'VBN', 'RB', 'JJ', 'IN', 'DT', 'NNP', 'NNPS', '.'], ['LS', 'NNP', 'NNP', ',', 'PRP$', 'NNS', 'CC', 'PRP$', 'NNS'], ['DT', 'NN', 'RB', 'VBZ', 'DT', 'NNP', 'NNP', '-LRB-', 'NNP', 'IN', 'JJ', ':', 'NNP', 'NN', ':', 'NNP', 'CD', ':', 'NNP', '-RRB-', ',', 'PRP$', 'NNS', 'CC', 'PRP$', 'NNS', '.'], ['PRP', 'RB', 'VBP', 'NNS', 'IN', 'DT', 'NN', 'NN', 'IN', 'DT', 'NNP', 'NN', '.'], ['DT', 'VBZ', 'JJ', ',', 'IN', 'IN', 'PRP', 'MD', 'VB', 'IN', 'SYM', 'CD', 'RB', ',', 'DT', 'IN', 'DT', 'NNP', 'NN', 'NN', 'NNS', 'CC', 'NN', 'HYPH', 'NN', 'NNS', 'VBP', 'VBN', 'IN', 'NNP', 'NNS', 'IN', 'JJ', 'NNS', '.'], ['NNP', 'VBZ', 'DT', 'JJ', 'NN', 'VBN', 'IN', 'DT', 'NNP', 'NNP', 'NN', 'IN', 'NNP', 'NNP', 'IN', 'DT', 'NN', 'VBN', 'TO', 'VB', 'IN', 'CD', '-LRB-', 'NNP', ',', 'CD', '-RRB-', 'CC', 'CD', 'NNS', '-LRB-', 'NNP', ',', 'NNP', ',', 'CC', 'NNP', ',', 'CD', '-RRB-', '.'], ['JJ', 'NNS', 'VBP', 'VBN', 'IN', 'NNS', 'IN', '_', 'NNP', 'POS', '-LRB-', 'CD', '-RRB-', 'NNP', 'NN', 'IN', 'JJ', 'NNS', 'IN', 'DT', 'NNP', 'NNP', 'NN', 'NN', '.'], ['NNS', 'IN', 'DT', 'NNS', 'VBP', 'VBN', 'IN', 'DT', 'NNP', ',', 'IN', 'DT', 'JJ', 'NNP', 'NN', 'IN', 'NNP', 'NNP', 'CC', 'IN', 'NNP', 'NNP', '.'], ['DT', 'NN', 'IN', 'NNP', 'CD', ',', 'VBN', 'IN', 'NNP', ',', 'VBZ', 'DT', 'NNS', 'IN', 'NNP', '.'], ['DT', 'NN', 'IN', 'DT', 'NN', 'VBZ', 'IN', 'DT', 'NNP', 'VBG', 'NN', '-LRB-', 'NNP', 'VBZ', 'DT', 'NN', 'VBN', 'IN', 'NNP', 'IN', 'NNP', '-RRB-', '.'], ['NNP', 'VBZ', 'RB', 'VBN', 'IN', 'NNP', ',', 'DT', 'JJ', 'NN', 'IN', 'CD', 'NNS', 'VBN', 'IN', 'DT', 'NN', 'IN', 'NNP', ',', 'DT', 'NN', 'NN', 'IN', 'DT', 'JJ', 'JJ', 'NN', 'IN', 'NNP', 'IN', 'DT', 'NN', 'IN', 'NNP', '.'], ['NNP', 'VBZ', 'DT', 'NN', 'VBN', 'IN', 'DT', 'NNP', 'NNP', 'IN', 'DT', 'NN', ',', 'WDT', 'VBZ', 'PRP', 'IN', 'DT', 'NNP', 'NNP', 'CC', 'NNP', 'NNP', 'NNS', ',', 'CC', '_', 'IN', 'DT', 'NN', 'IN', 'DT', 'NNS', 'NNP', 'CC', 'NNP', ',', 'WRB', 'DT', 'NNS', 'IN', 'NNP', 'CC', 'NNP', 'NNP', 'VBP', '.'], ['IN', 'DT', 'NN', ',', 'DT', 'NN', 'VBN', 'IN', 'NNP', 'NNP', 'VBZ', 'NNP', 'IN', 'DT', 'NNP', 'VBG', 'NN', ',', 'IN', 'DT', 'NN', 'NN', 'IN', 'NNP', 'VBZ', 'IN', 'DT', 'NN', 'IN', 'DT', 'NNP', 'NNP', 'NNP', 'CC', 'NNP', 'NNP', 'NNP', '.'], ['DT', 'NN', 'IN', 'NNP', 'CD', 'RB', ',', 'VBN', 'IN', 'NNP', 'CC', 'NNP', '-LRB-', 'CD', '-RRB-', ',', 'VBZ', 'DT', 'RB', 'JJ', 'NN', 'IN', 'NNP', 'IN', 'NN', 'IN', 'JJ', 'VBG', 'NN', 'NNS', '.'], ['DT', 'IN', 'DT', 'NNS', 'MD', 'VB', 'VBN', 'IN', 'IN', 'PRP$', 'NN', 'IN', 'NN', 'NN', 'NNS', 'IN', 'SYM', 'CD', '.'], ['DT', 'NNP', 'VBN', 'IN', 'NNP', 'VBZ', 'VBN', 'IN', 'JJ', 'NNS', 'VBN', 'IN', 'NNS', 'IN', 'VBG', 'NNS', '.'], ['IN', 'NN', ',', 'DT', 'NN', 'NNP', 'CD', '``', 'DT', 'NN', 'IN', 'NNP', \"''\", ',', 'VBZ', 'DT', 'NN', 'VBN', 'IN', 'NNS', 'IN', 'NNP', 'IN', 'DT', 'NNP', 'NN', ',', 'IN', 'NNP', ',', 'IN', 'WDT', 'NNP', 'VBD', 'DT', 'NN', ',', 'VBZ', 'DT', 'NN', 'WDT', 'VBZ', 'DT', 'NN', 'IN', 'PRP$', 'NN', '.'], ['NNP', 'VBZ', 'DT', 'NN', 'VBN', 'IN', 'NNP', 'NNS', ',', 'CC', 'PRP$', 'NN', 'VBZ', 'RB', 'VBN', '.'], ['NNP', ',', '``', 'DT', 'NN', 'IN', 'NN', 'IN', 'NNP', 'SYM', 'NNP', \"''\", ',', 'VBZ', 'DT', 'NN', 'VBN', 'IN', 'NNP', 'NNP', 'NNS', 'WP', 'VBP', 'RBR', 'JJ', 'IN', 'DT', 'NN', 'IN', 'NNP', 'SYM', 'NNP', \"''\", 'IN', 'DT', 'JJ', 'NNS', 'IN', 'NNP', '.'], ['RB', ',', 'NNP', 'SYM', 'NNP', '``', 'DT', 'NN', 'IN', 'DT', 'NN', 'IN', 'NNP', \"''\", ',', 'DT', 'RBS', 'JJ', 'IN', 'PDT', 'DT', 'NNS', ',', 'VBZ', 'DT', 'NN', 'VBN', 'IN', 'DT', 'NNP', 'NNP', 'CC', 'NNP', 'NNP', 'NNS', 'IN', 'NNP', 'NNS', 'CC', 'PRP$', 'NN', ',', 'IN', 'NNS', 'IN', 'DT', 'NN', 'IN', 'NNP', 'VBD', 'DT', 'JJ', 'TO', 'VB', 'IN', 'NN', 'IN', 'PRP', '.'], ['NNP', 'CD', '.'], ['NN', 'IN', 'NNP', '-LRB-', 'NN', 'IN', 'NNP', 'NNS', '-RRB-'], ['NNP', 'CD', '.'], ['NN', 'IN', 'DT', 'NNP', 'VBG', 'NN'], ['NN', 'NNS', 'VBP', 'VBN', 'VBG', 'PRP$', 'JJ', 'NN', '.'], ['DT', 'NNP', 'NN', 'NNS', 'VBP', 'VBN', 'IN', 'NN', 'NNS', 'WDT', 'VBP', 'PRP', '.'], ['NN', 'NNS', 'VBP', 'VBN', 'VBG', 'DT', 'NN', 'IN', 'DT', 'NN', 'IN', 'JJ', 'NNS', 'IN', 'NNP', ',', 'NNP', 'CD', '.'], ['NNS', 'IN', 'DT', 'NNS', 'IN', 'NNP', 'VBP', 'VBN', 'VBG', 'DT', 'NNP', 'NN', 'CC', 'VBG', 'DT', 'NN', 'IN', 'NN', 'NNS', 'IN', 'JJ', 'NNS', '.'], ['JJ', 'NN', 'NNS', 'WDT', 'VBP', 'RB', 'JJ', 'IN', 'NNP', 'VBP', 'NNP', 'SYM', 'NNP', '-LRB-', 'IN', 'DT', 'NN', 'IN', 'NNP', 'IN', 'CD', 'NN', 'JJ', 'NN', '-RRB-', 'CC', 'NNP', '-LRB-', 'IN', 'DT', 'NN', 'IN', 'NNP', 'IN', 'CD', 'NN', 'JJ', 'NN', '-LRB-', 'VBN', 'IN', 'NNP', 'FW', 'FW', ',', 'CD', 'NNS', '-RRB-', '-RRB-', '.'], ['NNP', '-LRB-', 'IN', 'DT', 'NN', 'IN', 'NNP', '-RRB-', ',', 'NNP', '-LRB-', 'IN', 'DT', 'NN', 'NNP', '-RRB-', 'CC', 'NNP', '-LRB-', 'NNP', 'CD', ':', 'NNP', '-RRB-', 'IN', 'DT', 'NN', 'IN', 'NNP', 'NNP', 'VBP', 'RB', 'JJ', 'NNS', 'JJ', 'IN', 'NNP', '.'], ['PRP', 'VBP', 'VBN', 'RB', 'IN', 'DT', 'NNP', 'NNP', 'IN', 'DT', 'NNP', 'NNP', 'NN', '.'], ['EX', 'VBP', 'RB', 'JJ', 'JJ', 'NNP', 'NNS', 'IN', 'NNS', 'IN', 'NNP', '-LRB-', 'RB', 'IN', 'NNP', '-RRB-', 'CC', 'IN', 'NNP', '-LRB-', 'RB', 'IN', 'NNP', '-RRB-', ',', 'WRB', 'PRP', 'VBP', 'IN', 'NNS', 'IN', 'NNP', 'NNS', '.'], ['RB', 'JJS', 'NNP', 'NNS', 'IN', 'NNP', 'VBP', 'IN', 'PRP$', 'NN', ',', 'RB', 'IN', 'JJ', 'NNS', 'IN', 'NNP', 'CC', 'NNP', '.'], ['NNS', 'IN', 'NNP', 'VBP', 'DT', 'NN', 'NNP', '-LRB-', 'VBG', 'NNP', '-RRB-', 'TO', 'VB', 'IN', 'PRP$', 'NN', 'WRB', 'PRP', 'VBP', 'IN', 'DT', 'JJ', ',', 'CC', 'VBP', 'NNP', 'TO', 'VB', 'PRP$', 'JJ', 'NN', 'IN', 'DT', 'IN', 'JJ', 'JJ', 'NNS', '.'], ['NNP', 'VBZ', 'DT', 'JJ', 'NN', 'WP$', 'NN', 'IN', 'JJ', 'NNS', 'VBZ', 'VBN', 'VBG', 'RB', 'IN', 'DT', 'JJ', 'NNS', '.'], ['PRP', 'VBZ', 'JJ', 'TO', 'VB', 'DT', 'NN', 'NN', 'IN', 'NNP', ',', 'IN', 'DT', 'IN', 'DT', 'NN', 'NNS', 'VBN', 'IN', 'DT', 'NN', 'VBP', 'IN', 'JJ', 'NNS', 'CC', 'IN', 'VBG', 'NNS', '.'], ['DT', 'NNS', 'VBP', 'VBN', 'CC', 'IN', 'NNP', 'CC', 'IN', 'DT', 'JJ', 'NN', '.'], ['NNP', 'NNP'], ['NNP', 'NNP', 'NNP', '-LRB-', 'SYM', 'NNP', ',', 'NNP', 'SYM', 'NNP', ':', 'NNP', ':', '-LRB-', 'NNP', 'NNP', 'NNP', '-RRB-', ':', 'CD', 'NNP', 'CD', 'SYM', 'CD', 'NNP', 'CD', '-RRB-', 'VBD', 'DT', 'JJ', 'NN', '.'], ['IN', 'NNP', 'NNP', ',', 'PRP', 'VBD', 'DT', 'JJ', 'JJ', 'JJ', 'HYPH', 'NN', 'NN', 'TO', 'VB', 'JJ', 'NN', '.'], ['VBG', '_', 'NNP', 'POS', 'JJ', 'NN', ',', 'NNP', 'RB', 'VBD', 'NNS', ',', 'RB', 'NNS', ',', 'IN', 'DT', 'NN', 'NN', 'IN', 'NNP', 'CC', 'PRP$', 'JJ', 'NNP', '.'], ['_', 'NNP', 'POS', 'JJ', 'NN', 'VBZ', 'VBN', 'VBN', 'IN', '``', 'DT', 'JJS', 'NN', 'IN', 'DT', 'JJ', 'NN', 'IN', 'DT', 'IN', 'DT', 'JJ', 'NN', ',', 'VBG', 'NN', 'NNS', 'CC', 'VBG', 'JJ', 'NNS', 'IN', 'VBG', 'PRP', \"''\", '.', '-LRB-', 'CD', '-RRB-'], ['NNP', 'NNP'], ['NNP', 'VBD', 'PRP$', 'JJ', 'NNS', 'IN', 'DT', 'JJ', 'NN', ',', 'VBG', 'DT', 'JJ', 'NN', 'NN', 'IN', 'NN', 'CD', '.'], ['DT', 'JJ', 'JJ', 'NNS', 'IN', 'PRP$', 'NNS', 'VBD', 'IN', 'NNP', 'IN', 'CD', 'CC', ',', 'IN', 'JJ', 'NN', ',', 'IN', 'CD', ',', 'WRB', 'PRP', 'VBD', 'JJ', 'CD', '.'], ['VBG', 'NN', 'IN', 'DT', 'NNP', 'NN', ',', 'PRP', 'VBD', 'DT', 'NN', 'IN', 'PRP$', 'NNP', 'NNP', 'IN', 'DT', 'NN', 'NN', 'IN', 'NNP', ',', 'CC', 'VBD', 'RB', 'VB', ',', 'CC', 'DT', 'JJ', 'NN', 'VBD', 'VBN', 'IN', 'VBN', 'JJ', 'NNS', 'RBR', '.'], ['IN', 'CD', 'PRP', 'VBD', 'DT', 'NN', 'IN', 'DT', 'NNP', 'NNP', 'NNP', 'IN', 'NNP', ',', 'VBG', 'NNS', 'IN', 'CD', 'JJR', 'NNS', 'CC', 'JJ', 'NNS', '.']]\n"
     ]
    }
   ],
   "source": [
    "def getCorrespondingTags(data):\n",
    "    dictData = {}\n",
    "    for smallArr in data:\n",
    "        key = smallArr[0]\n",
    "        value = smallArr[3]\n",
    "        if key in dictData:\n",
    "            dictData[key].append(value)\n",
    "        else:\n",
    "            dictData[key] = [value]\n",
    "\n",
    "    result = []\n",
    "    for key, values in dictData.items():\n",
    "        result.append(values)\n",
    "\n",
    "    return result\n",
    "\n",
    "def getCorrespondingSentence(data):\n",
    "    dictData = {}\n",
    "    for smallArr in data:\n",
    "        key = smallArr[0]\n",
    "        value = smallArr[2]\n",
    "        if key in dictData:\n",
    "            dictData[key].append(value)\n",
    "        else:\n",
    "            dictData[key] = [value]\n",
    "\n",
    "    result = []\n",
    "    for key, values in dictData.items():\n",
    "        result.append(values)\n",
    "\n",
    "    return result\n",
    "\n",
    "def getSmoothingCount(data):\n",
    "    smoothingCount = 0\n",
    "    for i in range(len(data)):\n",
    "        if wordTagProbs[data[i][3]][data[i][2]] == 0:\n",
    "            smoothingCount+=1\n",
    "    return smoothingCount\n",
    "\n",
    "testData, _ = parseData(\"./NLP2/test.txt\")\n",
    "getTags = getCorrespondingTags(testData)\n",
    "smoothingCount = getSmoothingCount(testData)\n",
    "sentences = getCorrespondingSentence(testData)\n",
    "print(getTags)"
   ]
  },
  {
   "cell_type": "code",
   "execution_count": 12,
   "id": "df936e25",
   "metadata": {},
   "outputs": [],
   "source": [
    "# Perform Smoothing\n",
    "def smoothenTransitionProbability(data, tagProbs, wordTagProbs, countTags, countWords):\n",
    "    v = len(vocabularySet)\n",
    "    for i in range(len(data)):\n",
    "        wordTagProbs[data[i][3]][data[i][2]] = (countWords[data[i][3]][data[i][2]] + 1) / (v + countTags[data[i][3]])\n",
    "    \n",
    "    for tag, words in wordTagProbs.items():\n",
    "        for word, prob in words.items():\n",
    "            wordTagProbs[tag][word] = (countWords[tag][word] + 1) / (v + countTags[tag])\n",
    "    \n",
    "    return wordTagProbs\n",
    "\n",
    "wordTagProbs = smoothenTransitionProbability(testData, tagProbs, wordTagProbs, y, x)"
   ]
  },
  {
   "cell_type": "code",
   "execution_count": 13,
   "id": "61d02bd7",
   "metadata": {},
   "outputs": [
    {
     "name": "stdout",
     "output_type": "stream",
     "text": [
      "Accuracy: 0.9572074526040532\n",
      "Precision: 0.9575142654288404\n",
      "Recall: 0.9572074526040532\n",
      "F1 Score: 0.9561591969387586\n"
     ]
    }
   ],
   "source": [
    "results = []\n",
    "for i in range(len(sentences)):\n",
    "    sentence = sentences[i]\n",
    "    result = viterbi(sentence, tagProbs, wordTagProbs)[1]\n",
    "    results.append(result)\n",
    "\n",
    "# Flatten the lists\n",
    "A_flat = [item for sublist in getTags for item in sublist]\n",
    "B_flat = [item for sublist in results for item in sublist]\n",
    "\n",
    "# Calculate metrics\n",
    "accuracy = accuracy_score(A_flat, B_flat)\n",
    "precision = precision_score(A_flat, B_flat, average='weighted', zero_division=1)\n",
    "recall = recall_score(A_flat, B_flat, average='weighted', zero_division=1)\n",
    "f1 = f1_score(A_flat, B_flat, average='weighted')\n",
    "\n",
    "print(\"Accuracy:\", accuracy)\n",
    "print(\"Precision:\", precision)\n",
    "print(\"Recall:\", recall)\n",
    "print(\"F1 Score:\", f1)"
   ]
  },
  {
   "cell_type": "markdown",
   "id": "f73925a9",
   "metadata": {},
   "source": [
    "## Generating a TSV File according to the format specified in the Problem Statement"
   ]
  },
  {
   "cell_type": "code",
   "execution_count": null,
   "id": "41fc6303",
   "metadata": {},
   "outputs": [],
   "source": []
  }
 ],
 "metadata": {
  "kernelspec": {
   "display_name": "Python 3 (ipykernel)",
   "language": "python",
   "name": "python3"
  },
  "language_info": {
   "codemirror_mode": {
    "name": "ipython",
    "version": 3
   },
   "file_extension": ".py",
   "mimetype": "text/x-python",
   "name": "python",
   "nbconvert_exporter": "python",
   "pygments_lexer": "ipython3",
   "version": "3.10.12"
  }
 },
 "nbformat": 4,
 "nbformat_minor": 5
}
