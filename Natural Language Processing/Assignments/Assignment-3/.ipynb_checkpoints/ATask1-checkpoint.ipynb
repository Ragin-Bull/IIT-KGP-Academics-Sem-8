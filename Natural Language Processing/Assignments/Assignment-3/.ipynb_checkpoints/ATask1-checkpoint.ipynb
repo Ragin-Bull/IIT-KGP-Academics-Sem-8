{
 "cells": [
  {
   "cell_type": "code",
   "execution_count": 86,
   "id": "fa283dc4",
   "metadata": {},
   "outputs": [
    {
     "name": "stdout",
     "output_type": "stream",
     "text": [
      "[--------------------------------------------------] 1.4% 23.4/1662.8MB downloaded"
     ]
    },
    {
     "name": "stderr",
     "output_type": "stream",
     "text": [
      "IOPub message rate exceeded.\n",
      "The notebook server will temporarily stop sending output\n",
      "to the client in order to avoid crashing it.\n",
      "To change this limit, set the config variable\n",
      "`--NotebookApp.iopub_msg_rate_limit`.\n",
      "\n",
      "Current values:\n",
      "NotebookApp.iopub_msg_rate_limit=1000.0 (msgs/sec)\n",
      "NotebookApp.rate_limit_window=3.0 (secs)\n",
      "\n"
     ]
    },
    {
     "name": "stdout",
     "output_type": "stream",
     "text": [
      "[==------------------------------------------------] 5.0% 83.1/1662.8MB downloaded"
     ]
    },
    {
     "name": "stderr",
     "output_type": "stream",
     "text": [
      "IOPub message rate exceeded.\n",
      "The notebook server will temporarily stop sending output\n",
      "to the client in order to avoid crashing it.\n",
      "To change this limit, set the config variable\n",
      "`--NotebookApp.iopub_msg_rate_limit`.\n",
      "\n",
      "Current values:\n",
      "NotebookApp.iopub_msg_rate_limit=1000.0 (msgs/sec)\n",
      "NotebookApp.rate_limit_window=3.0 (secs)\n",
      "\n"
     ]
    },
    {
     "name": "stdout",
     "output_type": "stream",
     "text": [
      "[====----------------------------------------------] 8.7% 144.0/1662.8MB downloaded"
     ]
    },
    {
     "name": "stderr",
     "output_type": "stream",
     "text": [
      "IOPub message rate exceeded.\n",
      "The notebook server will temporarily stop sending output\n",
      "to the client in order to avoid crashing it.\n",
      "To change this limit, set the config variable\n",
      "`--NotebookApp.iopub_msg_rate_limit`.\n",
      "\n",
      "Current values:\n",
      "NotebookApp.iopub_msg_rate_limit=1000.0 (msgs/sec)\n",
      "NotebookApp.rate_limit_window=3.0 (secs)\n",
      "\n"
     ]
    },
    {
     "name": "stdout",
     "output_type": "stream",
     "text": [
      "[======--------------------------------------------] 12.5% 207.8/1662.8MB downloaded"
     ]
    },
    {
     "name": "stderr",
     "output_type": "stream",
     "text": [
      "IOPub message rate exceeded.\n",
      "The notebook server will temporarily stop sending output\n",
      "to the client in order to avoid crashing it.\n",
      "To change this limit, set the config variable\n",
      "`--NotebookApp.iopub_msg_rate_limit`.\n",
      "\n",
      "Current values:\n",
      "NotebookApp.iopub_msg_rate_limit=1000.0 (msgs/sec)\n",
      "NotebookApp.rate_limit_window=3.0 (secs)\n",
      "\n"
     ]
    },
    {
     "name": "stdout",
     "output_type": "stream",
     "text": [
      "[========------------------------------------------] 16.9% 280.5/1662.8MB downloaded"
     ]
    },
    {
     "name": "stderr",
     "output_type": "stream",
     "text": [
      "IOPub message rate exceeded.\n",
      "The notebook server will temporarily stop sending output\n",
      "to the client in order to avoid crashing it.\n",
      "To change this limit, set the config variable\n",
      "`--NotebookApp.iopub_msg_rate_limit`.\n",
      "\n",
      "Current values:\n",
      "NotebookApp.iopub_msg_rate_limit=1000.0 (msgs/sec)\n",
      "NotebookApp.rate_limit_window=3.0 (secs)\n",
      "\n"
     ]
    },
    {
     "name": "stdout",
     "output_type": "stream",
     "text": [
      "[==========----------------------------------------] 21.4% 355.4/1662.8MB downloaded"
     ]
    },
    {
     "name": "stderr",
     "output_type": "stream",
     "text": [
      "IOPub message rate exceeded.\n",
      "The notebook server will temporarily stop sending output\n",
      "to the client in order to avoid crashing it.\n",
      "To change this limit, set the config variable\n",
      "`--NotebookApp.iopub_msg_rate_limit`.\n",
      "\n",
      "Current values:\n",
      "NotebookApp.iopub_msg_rate_limit=1000.0 (msgs/sec)\n",
      "NotebookApp.rate_limit_window=3.0 (secs)\n",
      "\n"
     ]
    },
    {
     "name": "stdout",
     "output_type": "stream",
     "text": [
      "[============--------------------------------------] 25.6% 425.8/1662.8MB downloaded"
     ]
    },
    {
     "name": "stderr",
     "output_type": "stream",
     "text": [
      "IOPub message rate exceeded.\n",
      "The notebook server will temporarily stop sending output\n",
      "to the client in order to avoid crashing it.\n",
      "To change this limit, set the config variable\n",
      "`--NotebookApp.iopub_msg_rate_limit`.\n",
      "\n",
      "Current values:\n",
      "NotebookApp.iopub_msg_rate_limit=1000.0 (msgs/sec)\n",
      "NotebookApp.rate_limit_window=3.0 (secs)\n",
      "\n"
     ]
    },
    {
     "name": "stdout",
     "output_type": "stream",
     "text": [
      "[===============-----------------------------------] 30.0% 499.1/1662.8MB downloaded"
     ]
    },
    {
     "name": "stderr",
     "output_type": "stream",
     "text": [
      "IOPub message rate exceeded.\n",
      "The notebook server will temporarily stop sending output\n",
      "to the client in order to avoid crashing it.\n",
      "To change this limit, set the config variable\n",
      "`--NotebookApp.iopub_msg_rate_limit`.\n",
      "\n",
      "Current values:\n",
      "NotebookApp.iopub_msg_rate_limit=1000.0 (msgs/sec)\n",
      "NotebookApp.rate_limit_window=3.0 (secs)\n",
      "\n"
     ]
    },
    {
     "name": "stdout",
     "output_type": "stream",
     "text": [
      "[=================---------------------------------] 34.6% 575.8/1662.8MB downloaded"
     ]
    },
    {
     "name": "stderr",
     "output_type": "stream",
     "text": [
      "IOPub message rate exceeded.\n",
      "The notebook server will temporarily stop sending output\n",
      "to the client in order to avoid crashing it.\n",
      "To change this limit, set the config variable\n",
      "`--NotebookApp.iopub_msg_rate_limit`.\n",
      "\n",
      "Current values:\n",
      "NotebookApp.iopub_msg_rate_limit=1000.0 (msgs/sec)\n",
      "NotebookApp.rate_limit_window=3.0 (secs)\n",
      "\n"
     ]
    },
    {
     "name": "stdout",
     "output_type": "stream",
     "text": [
      "[===================-------------------------------] 39.8% 662.4/1662.8MB downloaded"
     ]
    },
    {
     "name": "stderr",
     "output_type": "stream",
     "text": [
      "IOPub message rate exceeded.\n",
      "The notebook server will temporarily stop sending output\n",
      "to the client in order to avoid crashing it.\n",
      "To change this limit, set the config variable\n",
      "`--NotebookApp.iopub_msg_rate_limit`.\n",
      "\n",
      "Current values:\n",
      "NotebookApp.iopub_msg_rate_limit=1000.0 (msgs/sec)\n",
      "NotebookApp.rate_limit_window=3.0 (secs)\n",
      "\n"
     ]
    },
    {
     "name": "stdout",
     "output_type": "stream",
     "text": [
      "[======================----------------------------] 44.8% 745.0/1662.8MB downloaded"
     ]
    },
    {
     "name": "stderr",
     "output_type": "stream",
     "text": [
      "IOPub message rate exceeded.\n",
      "The notebook server will temporarily stop sending output\n",
      "to the client in order to avoid crashing it.\n",
      "To change this limit, set the config variable\n",
      "`--NotebookApp.iopub_msg_rate_limit`.\n",
      "\n",
      "Current values:\n",
      "NotebookApp.iopub_msg_rate_limit=1000.0 (msgs/sec)\n",
      "NotebookApp.rate_limit_window=3.0 (secs)\n",
      "\n"
     ]
    },
    {
     "name": "stdout",
     "output_type": "stream",
     "text": [
      "[========================--------------------------] 49.4% 821.1/1662.8MB downloaded"
     ]
    },
    {
     "name": "stderr",
     "output_type": "stream",
     "text": [
      "IOPub message rate exceeded.\n",
      "The notebook server will temporarily stop sending output\n",
      "to the client in order to avoid crashing it.\n",
      "To change this limit, set the config variable\n",
      "`--NotebookApp.iopub_msg_rate_limit`.\n",
      "\n",
      "Current values:\n",
      "NotebookApp.iopub_msg_rate_limit=1000.0 (msgs/sec)\n",
      "NotebookApp.rate_limit_window=3.0 (secs)\n",
      "\n"
     ]
    },
    {
     "name": "stdout",
     "output_type": "stream",
     "text": [
      "[===========================-----------------------] 54.3% 902.9/1662.8MB downloaded"
     ]
    },
    {
     "name": "stderr",
     "output_type": "stream",
     "text": [
      "IOPub message rate exceeded.\n",
      "The notebook server will temporarily stop sending output\n",
      "to the client in order to avoid crashing it.\n",
      "To change this limit, set the config variable\n",
      "`--NotebookApp.iopub_msg_rate_limit`.\n",
      "\n",
      "Current values:\n",
      "NotebookApp.iopub_msg_rate_limit=1000.0 (msgs/sec)\n",
      "NotebookApp.rate_limit_window=3.0 (secs)\n",
      "\n"
     ]
    },
    {
     "name": "stdout",
     "output_type": "stream",
     "text": [
      "[=============================---------------------] 59.3% 986.3/1662.8MB downloaded"
     ]
    },
    {
     "name": "stderr",
     "output_type": "stream",
     "text": [
      "IOPub message rate exceeded.\n",
      "The notebook server will temporarily stop sending output\n",
      "to the client in order to avoid crashing it.\n",
      "To change this limit, set the config variable\n",
      "`--NotebookApp.iopub_msg_rate_limit`.\n",
      "\n",
      "Current values:\n",
      "NotebookApp.iopub_msg_rate_limit=1000.0 (msgs/sec)\n",
      "NotebookApp.rate_limit_window=3.0 (secs)\n",
      "\n"
     ]
    },
    {
     "name": "stdout",
     "output_type": "stream",
     "text": [
      "[===============================-------------------] 64.0% 1063.9/1662.8MB downloaded"
     ]
    },
    {
     "name": "stderr",
     "output_type": "stream",
     "text": [
      "IOPub message rate exceeded.\n",
      "The notebook server will temporarily stop sending output\n",
      "to the client in order to avoid crashing it.\n",
      "To change this limit, set the config variable\n",
      "`--NotebookApp.iopub_msg_rate_limit`.\n",
      "\n",
      "Current values:\n",
      "NotebookApp.iopub_msg_rate_limit=1000.0 (msgs/sec)\n",
      "NotebookApp.rate_limit_window=3.0 (secs)\n",
      "\n"
     ]
    },
    {
     "name": "stdout",
     "output_type": "stream",
     "text": [
      "[==================================----------------] 68.8% 1144.1/1662.8MB downloaded"
     ]
    },
    {
     "name": "stderr",
     "output_type": "stream",
     "text": [
      "IOPub message rate exceeded.\n",
      "The notebook server will temporarily stop sending output\n",
      "to the client in order to avoid crashing it.\n",
      "To change this limit, set the config variable\n",
      "`--NotebookApp.iopub_msg_rate_limit`.\n",
      "\n",
      "Current values:\n",
      "NotebookApp.iopub_msg_rate_limit=1000.0 (msgs/sec)\n",
      "NotebookApp.rate_limit_window=3.0 (secs)\n",
      "\n"
     ]
    },
    {
     "name": "stdout",
     "output_type": "stream",
     "text": [
      "[====================================--------------] 73.8% 1226.6/1662.8MB downloaded"
     ]
    },
    {
     "name": "stderr",
     "output_type": "stream",
     "text": [
      "IOPub message rate exceeded.\n",
      "The notebook server will temporarily stop sending output\n",
      "to the client in order to avoid crashing it.\n",
      "To change this limit, set the config variable\n",
      "`--NotebookApp.iopub_msg_rate_limit`.\n",
      "\n",
      "Current values:\n",
      "NotebookApp.iopub_msg_rate_limit=1000.0 (msgs/sec)\n",
      "NotebookApp.rate_limit_window=3.0 (secs)\n",
      "\n"
     ]
    },
    {
     "name": "stdout",
     "output_type": "stream",
     "text": [
      "[=======================================-----------] 78.6% 1307.5/1662.8MB downloaded"
     ]
    },
    {
     "name": "stderr",
     "output_type": "stream",
     "text": [
      "IOPub message rate exceeded.\n",
      "The notebook server will temporarily stop sending output\n",
      "to the client in order to avoid crashing it.\n",
      "To change this limit, set the config variable\n",
      "`--NotebookApp.iopub_msg_rate_limit`.\n",
      "\n",
      "Current values:\n",
      "NotebookApp.iopub_msg_rate_limit=1000.0 (msgs/sec)\n",
      "NotebookApp.rate_limit_window=3.0 (secs)\n",
      "\n"
     ]
    },
    {
     "name": "stdout",
     "output_type": "stream",
     "text": [
      "[=========================================---------] 83.8% 1394.1/1662.8MB downloaded"
     ]
    },
    {
     "name": "stderr",
     "output_type": "stream",
     "text": [
      "IOPub message rate exceeded.\n",
      "The notebook server will temporarily stop sending output\n",
      "to the client in order to avoid crashing it.\n",
      "To change this limit, set the config variable\n",
      "`--NotebookApp.iopub_msg_rate_limit`.\n",
      "\n",
      "Current values:\n",
      "NotebookApp.iopub_msg_rate_limit=1000.0 (msgs/sec)\n",
      "NotebookApp.rate_limit_window=3.0 (secs)\n",
      "\n"
     ]
    },
    {
     "name": "stdout",
     "output_type": "stream",
     "text": [
      "[============================================------] 88.8% 1477.2/1662.8MB downloaded"
     ]
    },
    {
     "name": "stderr",
     "output_type": "stream",
     "text": [
      "IOPub message rate exceeded.\n",
      "The notebook server will temporarily stop sending output\n",
      "to the client in order to avoid crashing it.\n",
      "To change this limit, set the config variable\n",
      "`--NotebookApp.iopub_msg_rate_limit`.\n",
      "\n",
      "Current values:\n",
      "NotebookApp.iopub_msg_rate_limit=1000.0 (msgs/sec)\n",
      "NotebookApp.rate_limit_window=3.0 (secs)\n",
      "\n"
     ]
    },
    {
     "name": "stdout",
     "output_type": "stream",
     "text": [
      "[==============================================----] 93.6% 1556.6/1662.8MB downloaded"
     ]
    },
    {
     "name": "stderr",
     "output_type": "stream",
     "text": [
      "IOPub message rate exceeded.\n",
      "The notebook server will temporarily stop sending output\n",
      "to the client in order to avoid crashing it.\n",
      "To change this limit, set the config variable\n",
      "`--NotebookApp.iopub_msg_rate_limit`.\n",
      "\n",
      "Current values:\n",
      "NotebookApp.iopub_msg_rate_limit=1000.0 (msgs/sec)\n",
      "NotebookApp.rate_limit_window=3.0 (secs)\n",
      "\n"
     ]
    },
    {
     "name": "stdout",
     "output_type": "stream",
     "text": [
      "[=================================================-] 98.5% 1637.7/1662.8MB downloaded"
     ]
    },
    {
     "name": "stderr",
     "output_type": "stream",
     "text": [
      "IOPub message rate exceeded.\n",
      "The notebook server will temporarily stop sending output\n",
      "to the client in order to avoid crashing it.\n",
      "To change this limit, set the config variable\n",
      "`--NotebookApp.iopub_msg_rate_limit`.\n",
      "\n",
      "Current values:\n",
      "NotebookApp.iopub_msg_rate_limit=1000.0 (msgs/sec)\n",
      "NotebookApp.rate_limit_window=3.0 (secs)\n",
      "\n"
     ]
    },
    {
     "name": "stdout",
     "output_type": "stream",
     "text": [
      "\n",
      "hello\n"
     ]
    }
   ],
   "source": [
    "import gensim.downloader as api\n",
    "wv = api.load('word2vec-google-news-300')\n",
    "print(\"hello\")"
   ]
  },
  {
   "cell_type": "code",
   "execution_count": 18,
   "id": "81a75d7a",
   "metadata": {},
   "outputs": [],
   "source": [
    "import pandas as pd\n",
    "import numpy as np\n",
    "import re\n",
    "from nltk.corpus import stopwords"
   ]
  },
  {
   "cell_type": "code",
   "execution_count": 25,
   "id": "bf9eda24",
   "metadata": {},
   "outputs": [],
   "source": [
    "import nltk"
   ]
  },
  {
   "cell_type": "code",
   "execution_count": 28,
   "id": "0634df29",
   "metadata": {},
   "outputs": [
    {
     "name": "stderr",
     "output_type": "stream",
     "text": [
      "[nltk_data] Downloading package stopwords to\n",
      "[nltk_data]     /Users/arupbaral/nltk_data...\n",
      "[nltk_data]   Unzipping corpora/stopwords.zip.\n"
     ]
    },
    {
     "data": {
      "text/plain": [
       "True"
      ]
     },
     "execution_count": 28,
     "metadata": {},
     "output_type": "execute_result"
    }
   ],
   "source": [
    "nltk.download('stopwords')"
   ]
  },
  {
   "cell_type": "code",
   "execution_count": 3,
   "id": "8b9a0e13",
   "metadata": {},
   "outputs": [],
   "source": [
    "df_train = pd.read_csv('NLP3/train.csv')"
   ]
  },
  {
   "cell_type": "code",
   "execution_count": 11,
   "id": "da141ccb",
   "metadata": {},
   "outputs": [],
   "source": [
    "index = 'index'\n",
    "text = 'text'\n",
    "label = 'label'"
   ]
  },
  {
   "cell_type": "code",
   "execution_count": 12,
   "id": "02f38dcf",
   "metadata": {},
   "outputs": [
    {
     "data": {
      "text/html": [
       "<div>\n",
       "<style scoped>\n",
       "    .dataframe tbody tr th:only-of-type {\n",
       "        vertical-align: middle;\n",
       "    }\n",
       "\n",
       "    .dataframe tbody tr th {\n",
       "        vertical-align: top;\n",
       "    }\n",
       "\n",
       "    .dataframe thead th {\n",
       "        text-align: right;\n",
       "    }\n",
       "</style>\n",
       "<table border=\"1\" class=\"dataframe\">\n",
       "  <thead>\n",
       "    <tr style=\"text-align: right;\">\n",
       "      <th></th>\n",
       "      <th>index</th>\n",
       "      <th>text</th>\n",
       "      <th>label</th>\n",
       "    </tr>\n",
       "  </thead>\n",
       "  <tbody>\n",
       "    <tr>\n",
       "      <th>0</th>\n",
       "      <td>0</td>\n",
       "      <td>Zimbabwe annual inflation drops to 209 percent...</td>\n",
       "      <td>0</td>\n",
       "    </tr>\n",
       "    <tr>\n",
       "      <th>1</th>\n",
       "      <td>1</td>\n",
       "      <td>More than 1,000 dead in Haiti (09/23/04)-- A m...</td>\n",
       "      <td>0</td>\n",
       "    </tr>\n",
       "    <tr>\n",
       "      <th>2</th>\n",
       "      <td>2</td>\n",
       "      <td>Seven die in Japan  #39;suicide pact #39; Japa...</td>\n",
       "      <td>0</td>\n",
       "    </tr>\n",
       "    <tr>\n",
       "      <th>3</th>\n",
       "      <td>3</td>\n",
       "      <td>Security No. 1 for Afghan head President Hamid...</td>\n",
       "      <td>0</td>\n",
       "    </tr>\n",
       "    <tr>\n",
       "      <th>4</th>\n",
       "      <td>4</td>\n",
       "      <td>Palestinians say they hope Bush accepts dealin...</td>\n",
       "      <td>0</td>\n",
       "    </tr>\n",
       "  </tbody>\n",
       "</table>\n",
       "</div>"
      ],
      "text/plain": [
       "   index                                               text  label\n",
       "0      0  Zimbabwe annual inflation drops to 209 percent...      0\n",
       "1      1  More than 1,000 dead in Haiti (09/23/04)-- A m...      0\n",
       "2      2  Seven die in Japan  #39;suicide pact #39; Japa...      0\n",
       "3      3  Security No. 1 for Afghan head President Hamid...      0\n",
       "4      4  Palestinians say they hope Bush accepts dealin...      0"
      ]
     },
     "execution_count": 12,
     "metadata": {},
     "output_type": "execute_result"
    }
   ],
   "source": [
    "df_train.head()"
   ]
  },
  {
   "cell_type": "code",
   "execution_count": 15,
   "id": "54614065",
   "metadata": {},
   "outputs": [],
   "source": [
    "'''\n",
    "World(0)\n",
    "Sports(1)\n",
    "Business(2)\n",
    "Sci/Tech(3)\n",
    "'''\n",
    "news_label_map = ['World','Sports','Business','Sci/Tech']"
   ]
  },
  {
   "cell_type": "code",
   "execution_count": 16,
   "id": "1cb9bc27",
   "metadata": {},
   "outputs": [
    {
     "data": {
      "text/plain": [
       "'\\nIn this task, (A) use the Word2Vec model to generate your input feature vector. Next, (B) do classification using \\ntwo types of RNN models to catch the ordering and dependencies among the words in a sentence and classify them.\\n'"
      ]
     },
     "execution_count": 16,
     "metadata": {},
     "output_type": "execute_result"
    }
   ],
   "source": [
    "'''\n",
    "In this task, (A) use the Word2Vec model to generate your input feature vector. Next, (B) do classification using \n",
    "two types of RNN models to catch the ordering and dependencies among the words in a sentence and classify them.\n",
    "'''"
   ]
  },
  {
   "cell_type": "code",
   "execution_count": 17,
   "id": "a261d561",
   "metadata": {},
   "outputs": [
    {
     "data": {
      "text/plain": [
       "'\\nPreprocess the data – lowercasing, removing unnecessary symbols, stop words, etc.\\nReplace all ‘\\\\’ with <space>. Mention the steps you have taken in the report.\\nCreate the vocabulary out of the sentences for your model. Mention your choices\\nsuch as Min and Max document frequency in the report.\\n'"
      ]
     },
     "execution_count": 17,
     "metadata": {},
     "output_type": "execute_result"
    }
   ],
   "source": [
    "'''\n",
    "Preprocess the data – lowercasing, removing unnecessary symbols, stop words, etc.\n",
    "Replace all ‘\\\\’ with <space>. Mention the steps you have taken in the report.\n",
    "Create the vocabulary out of the sentences for your model. Mention your choices\n",
    "such as Min and Max document frequency in the report.\n",
    "'''"
   ]
  },
  {
   "cell_type": "code",
   "execution_count": 33,
   "id": "3203111c",
   "metadata": {},
   "outputs": [],
   "source": [
    "def preprocess_data(file_path):\n",
    "    \"\"\"\n",
    "    Preprocess the dataset for the news topic classification task.\n",
    "    \n",
    "    Args:\n",
    "        file_path (str): Path to the CSV file containing the dataset.\n",
    "        \n",
    "    Returns:\n",
    "        X (list): List of preprocessed sentences.\n",
    "        y (list): List of corresponding labels.\n",
    "    \"\"\"\n",
    "    # Load the dataset\n",
    "    df = pd.read_csv(file_path)\n",
    "    \n",
    "    # Preprocess the data\n",
    "    X = []\n",
    "    y = []\n",
    "    \n",
    "    for index, row in df.iterrows():\n",
    "        text = row['text']\n",
    "        label = row['label']\n",
    "        \n",
    "        # Convert to lowercase\n",
    "        text = text.lower()\n",
    "        \n",
    "        # Remove unnecessary symbols\n",
    "        text = re.sub(r'[^\\w\\s]', '', text)\n",
    "        \n",
    "        # Replace '\\\\' with space\n",
    "        text = text.replace('\\\\', ' ')\n",
    "        \n",
    "        # Remove stop words\n",
    "        stop_words = set(stopwords.words('english'))\n",
    "        text = ' '.join([word for word in text.split() if word not in stop_words])\n",
    "        \n",
    "        X.append(text)\n",
    "        y.append(label)\n",
    "        \n",
    "    return df,X, y"
   ]
  },
  {
   "cell_type": "code",
   "execution_count": 35,
   "id": "67dd41b4",
   "metadata": {},
   "outputs": [],
   "source": [
    "df_train,preprocessed_texts,labels = preprocess_data('NLP3/train.csv')"
   ]
  },
  {
   "cell_type": "code",
   "execution_count": 43,
   "id": "63068e63",
   "metadata": {},
   "outputs": [],
   "source": [
    "stop_words = set(stopwords.words('english'))"
   ]
  },
  {
   "cell_type": "code",
   "execution_count": 54,
   "id": "5929a853",
   "metadata": {},
   "outputs": [
    {
     "data": {
      "text/plain": [
       "'1000 dead haiti 092304 mass grave haiti holds 100 bodies may many graves recovery tropical storm jeanne complete'"
      ]
     },
     "execution_count": 54,
     "metadata": {},
     "output_type": "execute_result"
    }
   ],
   "source": [
    "preprocessed_texts[1]"
   ]
  },
  {
   "cell_type": "code",
   "execution_count": 39,
   "id": "6bed152e",
   "metadata": {},
   "outputs": [
    {
     "data": {
      "text/plain": [
       "\"Zimbabwe annual inflation drops to 209 percent: report (AFP) AFP - Zimbabwe's annual rate of inflation last month dropped to 209 percent, edging closer to a year-end target of 150 percent from a peak of 622.8 percent in January, according to a newspaper report.\""
      ]
     },
     "execution_count": 39,
     "metadata": {},
     "output_type": "execute_result"
    }
   ],
   "source": [
    "df_train.loc[0,'text']"
   ]
  },
  {
   "cell_type": "code",
   "execution_count": 69,
   "id": "3765cf4c",
   "metadata": {},
   "outputs": [],
   "source": [
    "def get_vocabulary(text_list,lo,hi):\n",
    "    word_freq = {}\n",
    "    sentwise_freq = {}\n",
    "    for sentence in text_list:\n",
    "        word_set = set()\n",
    "        for word in sentence.split(' '):\n",
    "            if word not in word_freq:\n",
    "                word_freq[word]=0\n",
    "            word_freq[word]+=1\n",
    "            word_set.add(word)\n",
    "        for word in word_set:\n",
    "            if word not in sentwise_freq:\n",
    "                sentwise_freq[word]=0\n",
    "            sentwise_freq[word]+=1\n",
    "    vocabulary = set([word for word in ' '.join(text_list).split(' ') if (word_freq[word]<=hi and sentwise_freq[word]>=lo)])\n",
    "    return vocabulary\n",
    "            "
   ]
  },
  {
   "cell_type": "code",
   "execution_count": 71,
   "id": "b7c80637",
   "metadata": {},
   "outputs": [],
   "source": [
    "vocabulary = get_vocabulary(preprocessed_texts,5,(1/2)*len(preprocessed_texts))"
   ]
  },
  {
   "cell_type": "code",
   "execution_count": 72,
   "id": "5b3bebc9",
   "metadata": {},
   "outputs": [
    {
     "data": {
      "text/plain": [
       "2015"
      ]
     },
     "execution_count": 72,
     "metadata": {},
     "output_type": "execute_result"
    }
   ],
   "source": [
    "len(vocabulary)"
   ]
  },
  {
   "cell_type": "code",
   "execution_count": 77,
   "id": "23598c87",
   "metadata": {},
   "outputs": [],
   "source": [
    "processed_texts = list(map(lambda x:' '.join([word for word in x.split(' ') if word in vocabulary]),preprocessed_texts))"
   ]
  },
  {
   "cell_type": "code",
   "execution_count": 83,
   "id": "7ab5f255",
   "metadata": {},
   "outputs": [
    {
     "data": {
      "text/plain": [
       "{'role',\n",
       " 'starting',\n",
       " 'senior',\n",
       " 'democrat',\n",
       " 'holiday',\n",
       " 'shipping',\n",
       " 'top',\n",
       " 'hotel',\n",
       " 'playoff',\n",
       " 'program',\n",
       " 'maker',\n",
       " 'led',\n",
       " 'watch',\n",
       " 'series',\n",
       " 'critics',\n",
       " 'tried',\n",
       " 'normal',\n",
       " 'regional',\n",
       " 'spokesman',\n",
       " 'opener',\n",
       " 'allows',\n",
       " 'caught',\n",
       " 'ran',\n",
       " 'massive',\n",
       " 'case',\n",
       " 'fuel',\n",
       " 'built',\n",
       " 'purchase',\n",
       " 'producer',\n",
       " 'iraqs',\n",
       " 'decade',\n",
       " 'un',\n",
       " 'comes',\n",
       " 'blair',\n",
       " 'pcs',\n",
       " 'machines',\n",
       " 'spent',\n",
       " 'billion',\n",
       " 'way',\n",
       " 'across',\n",
       " 'interest',\n",
       " 'offices',\n",
       " 'network',\n",
       " 'denies',\n",
       " 'body',\n",
       " 'professional',\n",
       " 'seed',\n",
       " 'agency',\n",
       " 'yet',\n",
       " 'vast',\n",
       " 'became',\n",
       " 'storm',\n",
       " 'train',\n",
       " 'products',\n",
       " 'officials',\n",
       " 'deal',\n",
       " 'shrine',\n",
       " 'group',\n",
       " 'zone',\n",
       " 'product',\n",
       " 'damage',\n",
       " 'bid',\n",
       " 'leaders',\n",
       " '50',\n",
       " 'soldiers',\n",
       " 'sudanese',\n",
       " 'nuclear',\n",
       " 'record',\n",
       " 'hurricanes',\n",
       " 'fields',\n",
       " 'euro',\n",
       " 'used',\n",
       " 'ltfont',\n",
       " 'claiming',\n",
       " 'seeks',\n",
       " 'complete',\n",
       " 'kidnapped',\n",
       " '29',\n",
       " 'deadly',\n",
       " 'karzai',\n",
       " 'features',\n",
       " 'possible',\n",
       " 'toronto',\n",
       " 'saturday',\n",
       " 'novell',\n",
       " 'nation',\n",
       " 'russia',\n",
       " 'guard',\n",
       " 'flight',\n",
       " 'launches',\n",
       " 'result',\n",
       " 'allegations',\n",
       " 'slide',\n",
       " 'weather',\n",
       " 'blast',\n",
       " 'one',\n",
       " 'xp',\n",
       " 'long',\n",
       " 'ahead',\n",
       " 'east',\n",
       " 'wide',\n",
       " 'doctors',\n",
       " 'sent',\n",
       " 'side',\n",
       " 'pay',\n",
       " 'officers',\n",
       " 'posted',\n",
       " 'seems',\n",
       " 'car',\n",
       " 'cell',\n",
       " 'broadband',\n",
       " 'rates',\n",
       " 'starts',\n",
       " 'stars',\n",
       " 'insurgents',\n",
       " 'started',\n",
       " 'figures',\n",
       " 'already',\n",
       " 'rest',\n",
       " 'turned',\n",
       " 'rise',\n",
       " 'amid',\n",
       " 'dozen',\n",
       " 'rivals',\n",
       " 'today',\n",
       " 'germany',\n",
       " 'wifi',\n",
       " 'forecast',\n",
       " 'problem',\n",
       " 'sebastien',\n",
       " 'forces',\n",
       " 'trade',\n",
       " 'quarter',\n",
       " 'council',\n",
       " 'tools',\n",
       " 'images',\n",
       " 'pass',\n",
       " 'hewlettpackard',\n",
       " 'sending',\n",
       " 'mission',\n",
       " 'life',\n",
       " 'division',\n",
       " 'association',\n",
       " 'threat',\n",
       " 'late',\n",
       " 'jobs',\n",
       " 'reforms',\n",
       " 'reuters',\n",
       " 'transport',\n",
       " 'federal',\n",
       " 'touchdown',\n",
       " 'los',\n",
       " 'deep',\n",
       " 'expansion',\n",
       " 'braves',\n",
       " 'know',\n",
       " 'fell',\n",
       " 'nasa',\n",
       " 'based',\n",
       " 'golf',\n",
       " 'hot',\n",
       " 'gains',\n",
       " 'british',\n",
       " 'mark',\n",
       " 'talk',\n",
       " 'sharon',\n",
       " 'usled',\n",
       " 'concerned',\n",
       " 'trees',\n",
       " 'chance',\n",
       " 'turning',\n",
       " 'better',\n",
       " 'ballmer',\n",
       " 'web',\n",
       " 'says',\n",
       " 'list',\n",
       " 'ceo',\n",
       " 'company',\n",
       " 'including',\n",
       " 'urged',\n",
       " 'jerusalem',\n",
       " 'release',\n",
       " 'champions',\n",
       " 'launched',\n",
       " 'appearance',\n",
       " 'exporters',\n",
       " 'say',\n",
       " 'warning',\n",
       " 'fighting',\n",
       " 'offering',\n",
       " 'gordon',\n",
       " 'bears',\n",
       " 'olympic',\n",
       " 'moon',\n",
       " 'sees',\n",
       " 'price',\n",
       " 'hostages',\n",
       " 'practice',\n",
       " 'career',\n",
       " 'office',\n",
       " 'lines',\n",
       " 'goals',\n",
       " 'service',\n",
       " 'struggle',\n",
       " 'probably',\n",
       " 'jets',\n",
       " 'kabul',\n",
       " 'chip',\n",
       " 'introduced',\n",
       " 'criticism',\n",
       " 'crowd',\n",
       " 'alex',\n",
       " 'barcelona',\n",
       " 'northern',\n",
       " 'weeks',\n",
       " 'goes',\n",
       " 'nascar',\n",
       " '22',\n",
       " 'three',\n",
       " 'remains',\n",
       " 'state',\n",
       " 'trading',\n",
       " 'customers',\n",
       " 'orders',\n",
       " '2',\n",
       " 'taken',\n",
       " 'agent',\n",
       " 'wall',\n",
       " 'cleared',\n",
       " 'workers',\n",
       " 'nearly',\n",
       " 'civil',\n",
       " 'measures',\n",
       " 'delegation',\n",
       " 'vienna',\n",
       " 'rate',\n",
       " 'moves',\n",
       " 'kill',\n",
       " 'agree',\n",
       " 'advantage',\n",
       " 'takes',\n",
       " 'station',\n",
       " 'done',\n",
       " 'per',\n",
       " 'bay',\n",
       " 'quit',\n",
       " 'ok',\n",
       " 'us',\n",
       " 'hike',\n",
       " 'quot',\n",
       " 'india',\n",
       " 'dream',\n",
       " 'bank',\n",
       " 'pitcher',\n",
       " 'beyond',\n",
       " 'servers',\n",
       " 'drug',\n",
       " 'nationwide',\n",
       " 'red',\n",
       " 'world',\n",
       " 'defense',\n",
       " 'options',\n",
       " 'st',\n",
       " 'help',\n",
       " 'hundreds',\n",
       " 'ryan',\n",
       " 'double',\n",
       " 'mixed',\n",
       " '70',\n",
       " 'concern',\n",
       " 'economic',\n",
       " 'gas',\n",
       " 'left',\n",
       " 'keeping',\n",
       " 'change',\n",
       " 'randy',\n",
       " 'device',\n",
       " 'numbers',\n",
       " 'half',\n",
       " 'develop',\n",
       " 'king',\n",
       " 'challenge',\n",
       " 'surgery',\n",
       " 'students',\n",
       " 'keep',\n",
       " 'prison',\n",
       " 'lower',\n",
       " 'emergency',\n",
       " 'losing',\n",
       " 'electronics',\n",
       " 'would',\n",
       " 'dolphins',\n",
       " 'buy',\n",
       " 'foods',\n",
       " 'britain',\n",
       " 'size2',\n",
       " 'satellite',\n",
       " 'former',\n",
       " 'appeals',\n",
       " 'major',\n",
       " 'signs',\n",
       " 'europe',\n",
       " 'certain',\n",
       " 'effort',\n",
       " 'manchester',\n",
       " 'thailand',\n",
       " 'local',\n",
       " 'host',\n",
       " 'together',\n",
       " 'plane',\n",
       " 'arrives',\n",
       " 'published',\n",
       " 'franchise',\n",
       " 'review',\n",
       " 'vote',\n",
       " 'tokyo',\n",
       " 'hamid',\n",
       " 'aside',\n",
       " 'hurt',\n",
       " 'biggest',\n",
       " 'went',\n",
       " 'banks',\n",
       " 'western',\n",
       " 'attempt',\n",
       " 'house',\n",
       " 'moved',\n",
       " 'retired',\n",
       " 'sunday',\n",
       " 'death',\n",
       " 'executives',\n",
       " 'rare',\n",
       " 'wild',\n",
       " 'strong',\n",
       " 'reserve',\n",
       " 'market',\n",
       " 'open',\n",
       " 'september',\n",
       " 'cowboys',\n",
       " 'voting',\n",
       " 'portable',\n",
       " 'includes',\n",
       " 'revenue',\n",
       " 'gaza',\n",
       " '28',\n",
       " 'lleyton',\n",
       " 'press',\n",
       " 'edition',\n",
       " 'medal',\n",
       " 'free',\n",
       " 'conference',\n",
       " 'nba',\n",
       " 'poor',\n",
       " 'fear',\n",
       " 'thousands',\n",
       " 'put',\n",
       " 'package',\n",
       " 'revealed',\n",
       " 'entered',\n",
       " 'fund',\n",
       " 'broad',\n",
       " '30',\n",
       " 'rescue',\n",
       " 'fans',\n",
       " 'needs',\n",
       " 'panel',\n",
       " 'budget',\n",
       " 'gov',\n",
       " 'along',\n",
       " 'shock',\n",
       " 'made',\n",
       " 'children',\n",
       " 'supporters',\n",
       " 'front',\n",
       " 'grew',\n",
       " 'markets',\n",
       " 'african',\n",
       " 'ties',\n",
       " 'low',\n",
       " 'patriots',\n",
       " 'cleveland',\n",
       " 'sources',\n",
       " 'private',\n",
       " 'investment',\n",
       " 'arrested',\n",
       " 'auction',\n",
       " 'rival',\n",
       " 'didnt',\n",
       " 'tournament',\n",
       " 'firms',\n",
       " 'steps',\n",
       " 'authorities',\n",
       " 'known',\n",
       " 'game',\n",
       " 'strip',\n",
       " 'picture',\n",
       " 'term',\n",
       " 'weekend',\n",
       " 'japan',\n",
       " 'minister',\n",
       " 'programs',\n",
       " 'department',\n",
       " '2006',\n",
       " 'agreement',\n",
       " 'fresh',\n",
       " 'system',\n",
       " 'attorney',\n",
       " 'following',\n",
       " 'safety',\n",
       " 'winner',\n",
       " 'hong',\n",
       " 'broadcast',\n",
       " 'makes',\n",
       " 'opensource',\n",
       " 'data',\n",
       " 'iran',\n",
       " 'analysts',\n",
       " 'called',\n",
       " 'apart',\n",
       " 'virginia',\n",
       " 'force',\n",
       " 'fate',\n",
       " 'decided',\n",
       " 'threatens',\n",
       " 'czech',\n",
       " 'insists',\n",
       " 'increased',\n",
       " 'august',\n",
       " 'food',\n",
       " 'young',\n",
       " 'received',\n",
       " 'times',\n",
       " 'makers',\n",
       " 'ford',\n",
       " 'june',\n",
       " 'scored',\n",
       " 'start',\n",
       " 'watchdog',\n",
       " '21',\n",
       " 'experts',\n",
       " '2004',\n",
       " 'africa',\n",
       " 'yards',\n",
       " 'legal',\n",
       " 'questions',\n",
       " 'period',\n",
       " 'woman',\n",
       " 'tool',\n",
       " 'build',\n",
       " 'year',\n",
       " '8',\n",
       " 'begins',\n",
       " 'greek',\n",
       " 'settlers',\n",
       " 'trophy',\n",
       " 'controversy',\n",
       " 'motors',\n",
       " 'minute',\n",
       " 'terrorism',\n",
       " 'main',\n",
       " '14',\n",
       " 'securities',\n",
       " 'holding',\n",
       " 'london',\n",
       " 'zimbabwe',\n",
       " 'number',\n",
       " 'profits',\n",
       " 'oct',\n",
       " 'elected',\n",
       " 'star',\n",
       " 'saying',\n",
       " 'january',\n",
       " 'reports',\n",
       " 'lets',\n",
       " 'threatened',\n",
       " 'continuing',\n",
       " 'processor',\n",
       " 'virus',\n",
       " 'credit',\n",
       " 'mutu',\n",
       " 'seasons',\n",
       " 'able',\n",
       " 'ocean',\n",
       " 'since',\n",
       " 'center',\n",
       " 'unions',\n",
       " 'grand',\n",
       " 'nations',\n",
       " 'looming',\n",
       " 'sept',\n",
       " 'sans',\n",
       " 'disease',\n",
       " 'million',\n",
       " 'class',\n",
       " 'arafat',\n",
       " 'capital',\n",
       " 'loss',\n",
       " 'sanctions',\n",
       " 'points',\n",
       " 'candidate',\n",
       " 'suicide',\n",
       " 'director',\n",
       " 'dow',\n",
       " 'rights',\n",
       " 'face',\n",
       " 'move',\n",
       " 'tests',\n",
       " 'america',\n",
       " 'events',\n",
       " 'flights',\n",
       " 'unlikely',\n",
       " 'conflict',\n",
       " 'ken',\n",
       " 'reported',\n",
       " 'cable',\n",
       " 'using',\n",
       " 'operating',\n",
       " 'sluggish',\n",
       " 'far',\n",
       " 'americans',\n",
       " 'pm',\n",
       " 'express',\n",
       " 'striker',\n",
       " '25',\n",
       " 'steelers',\n",
       " 'annual',\n",
       " 'hurricane',\n",
       " 'content',\n",
       " 'next',\n",
       " 'dispute',\n",
       " 'motor',\n",
       " 'positive',\n",
       " 'signing',\n",
       " 'arab',\n",
       " 'mass',\n",
       " 'announcement',\n",
       " 'yasser',\n",
       " 'baseball',\n",
       " 'wait',\n",
       " 'choice',\n",
       " 'iraq',\n",
       " 'winning',\n",
       " 'jason',\n",
       " 'joint',\n",
       " 'yankees',\n",
       " '19',\n",
       " 'media',\n",
       " 'fallujah',\n",
       " 'hunt',\n",
       " 'managers',\n",
       " 'avoid',\n",
       " 'al',\n",
       " 'ad',\n",
       " 'pole',\n",
       " 'headed',\n",
       " 'fit',\n",
       " 'survey',\n",
       " 'innings',\n",
       " 'ordered',\n",
       " 'reached',\n",
       " 'law',\n",
       " 'contract',\n",
       " 'find',\n",
       " 'increases',\n",
       " 'consider',\n",
       " 'sue',\n",
       " '44',\n",
       " 'decline',\n",
       " 'happy',\n",
       " 'easily',\n",
       " 'turns',\n",
       " 'planned',\n",
       " 'apple',\n",
       " 'atlantic',\n",
       " 'paid',\n",
       " 'bob',\n",
       " 'calif',\n",
       " 'considering',\n",
       " 'dell',\n",
       " '11',\n",
       " 'response',\n",
       " 'concerns',\n",
       " 'seeking',\n",
       " 'asking',\n",
       " 'assault',\n",
       " 'different',\n",
       " 'shiite',\n",
       " 'eyes',\n",
       " 'union',\n",
       " 'coach',\n",
       " 'continue',\n",
       " 'police',\n",
       " 'winter',\n",
       " 'dominate',\n",
       " 'confirmed',\n",
       " 'parts',\n",
       " '151',\n",
       " 'often',\n",
       " 'impact',\n",
       " 'believed',\n",
       " 'joined',\n",
       " 'pct',\n",
       " 'premier',\n",
       " 'update',\n",
       " 'district',\n",
       " '17',\n",
       " 'worldwide',\n",
       " 'winners',\n",
       " 'ipod',\n",
       " 'garden',\n",
       " 'although',\n",
       " 'summer',\n",
       " 'pittsburgh',\n",
       " 'spread',\n",
       " 'profile',\n",
       " 'pull',\n",
       " 'charge',\n",
       " 'victories',\n",
       " 'struggled',\n",
       " 'injured',\n",
       " 'charles',\n",
       " 'good',\n",
       " 'manager',\n",
       " 'ebay',\n",
       " 'let',\n",
       " 'bought',\n",
       " 'changes',\n",
       " 'strengthen',\n",
       " 'accounting',\n",
       " 'greece',\n",
       " 'california',\n",
       " 'users',\n",
       " 'falling',\n",
       " 'marketing',\n",
       " 'kenneth',\n",
       " 'speculation',\n",
       " 'create',\n",
       " 'supreme',\n",
       " 'memory',\n",
       " 'southern',\n",
       " 'recent',\n",
       " 'stephen',\n",
       " 'charged',\n",
       " 'poll',\n",
       " 'raises',\n",
       " 'whose',\n",
       " 'losses',\n",
       " 'brazil',\n",
       " 'vendors',\n",
       " 'separate',\n",
       " 'beta',\n",
       " 'combat',\n",
       " 'toll',\n",
       " 'tennis',\n",
       " 'ltd',\n",
       " 'warnings',\n",
       " 'closest',\n",
       " 'bcs',\n",
       " 'sec',\n",
       " 'hockey',\n",
       " 'trying',\n",
       " 'scheduled',\n",
       " '2003',\n",
       " 'opponents',\n",
       " 'attention',\n",
       " 'close',\n",
       " 'operations',\n",
       " 'twins',\n",
       " 'news',\n",
       " 'fellow',\n",
       " 'saddam',\n",
       " 'story',\n",
       " 'maria',\n",
       " 'magazine',\n",
       " 'conditions',\n",
       " 'day',\n",
       " 'lastminute',\n",
       " 'tie',\n",
       " 'korea',\n",
       " 'proposal',\n",
       " 'settlement',\n",
       " 'party',\n",
       " 'previously',\n",
       " 'tax',\n",
       " 'expectations',\n",
       " 'special',\n",
       " 'louis',\n",
       " 'crude',\n",
       " 'corporation',\n",
       " 'drop',\n",
       " 'full',\n",
       " 'tonight',\n",
       " 'opened',\n",
       " 'probe',\n",
       " 'tiger',\n",
       " 'maintain',\n",
       " '7',\n",
       " 'point',\n",
       " 'delay',\n",
       " 'hp',\n",
       " 'clash',\n",
       " 'wasnt',\n",
       " 'closer',\n",
       " 'water',\n",
       " 'area',\n",
       " 'milan',\n",
       " 'attempts',\n",
       " 'found',\n",
       " 'looking',\n",
       " 'plenty',\n",
       " 'asked',\n",
       " 'women',\n",
       " '12',\n",
       " 'tuesday',\n",
       " 'expected',\n",
       " 'bell',\n",
       " 'ohio',\n",
       " 'could',\n",
       " 'washingtonpostcom',\n",
       " 'costs',\n",
       " 'brian',\n",
       " 'miss',\n",
       " 'handset',\n",
       " 'manufacturers',\n",
       " 'latest',\n",
       " 'admitted',\n",
       " 'player',\n",
       " 'claims',\n",
       " 'interim',\n",
       " 'integration',\n",
       " 'nigerian',\n",
       " 'vladimir',\n",
       " 'throughout',\n",
       " 'insisted',\n",
       " '27',\n",
       " 'forecasts',\n",
       " 'score',\n",
       " 'highs',\n",
       " 'presidential',\n",
       " 'whats',\n",
       " 'photos',\n",
       " 'email',\n",
       " 'named',\n",
       " 'came',\n",
       " 'well',\n",
       " 'venture',\n",
       " 'upgrade',\n",
       " 'back',\n",
       " 'chicago',\n",
       " 'angeles',\n",
       " 'gets',\n",
       " 'twoyear',\n",
       " 'heard',\n",
       " 'powerful',\n",
       " 'streak',\n",
       " 'campaign',\n",
       " 'city',\n",
       " 'james',\n",
       " 'current',\n",
       " 'range',\n",
       " 'offense',\n",
       " 'least',\n",
       " 'telecom',\n",
       " 'phones',\n",
       " 'barrel',\n",
       " 'prices',\n",
       " 'traded',\n",
       " 'militants',\n",
       " 'angels',\n",
       " 'away',\n",
       " 'parliament',\n",
       " 'champion',\n",
       " 'shot',\n",
       " 'things',\n",
       " 'killing',\n",
       " 'highspeed',\n",
       " 'adrian',\n",
       " 'core',\n",
       " 'miami',\n",
       " 'planning',\n",
       " '6',\n",
       " 'tv',\n",
       " 'investors',\n",
       " 'scores',\n",
       " 'roundup',\n",
       " 'rather',\n",
       " 'heart',\n",
       " 'stock',\n",
       " 'engine',\n",
       " 'wanted',\n",
       " 'peace',\n",
       " 'design',\n",
       " 'warming',\n",
       " 'green',\n",
       " 'family',\n",
       " 'instead',\n",
       " 'spot',\n",
       " 'fraud',\n",
       " 'seconds',\n",
       " 'david',\n",
       " 'versus',\n",
       " 'declined',\n",
       " 'unveil',\n",
       " 'embattled',\n",
       " 'park',\n",
       " 'lab',\n",
       " 'political',\n",
       " 'present',\n",
       " 'defeat',\n",
       " 'armed',\n",
       " 'secretary',\n",
       " 'morning',\n",
       " 'dont',\n",
       " 'kept',\n",
       " 'estimates',\n",
       " 'fly',\n",
       " 'reputation',\n",
       " 'university',\n",
       " 'continued',\n",
       " 'announces',\n",
       " 'building',\n",
       " 'najaf',\n",
       " 'stadium',\n",
       " 'linux',\n",
       " 'captain',\n",
       " 'boston',\n",
       " 'raised',\n",
       " 'oneyear',\n",
       " 'arrest',\n",
       " 'update3',\n",
       " 'ever',\n",
       " 'computer',\n",
       " 'michigan',\n",
       " 'appeared',\n",
       " 'oklahoma',\n",
       " 'protest',\n",
       " 'cp',\n",
       " 'join',\n",
       " 'month',\n",
       " 'soccer',\n",
       " 'short',\n",
       " 'carrying',\n",
       " 'russian',\n",
       " 'michael',\n",
       " 'bring',\n",
       " 'nationals',\n",
       " 'every',\n",
       " 'corp',\n",
       " 'may',\n",
       " 'said',\n",
       " 'handed',\n",
       " 'depleted',\n",
       " 'bushs',\n",
       " 'enters',\n",
       " 'george',\n",
       " 'comments',\n",
       " 'w',\n",
       " 'phone',\n",
       " 'kerrys',\n",
       " 'chairman',\n",
       " 'spending',\n",
       " 'pace',\n",
       " 'debt',\n",
       " 'financial',\n",
       " 'necessary',\n",
       " 'masters',\n",
       " 'tops',\n",
       " 'widely',\n",
       " 'hard',\n",
       " 'time',\n",
       " 'surging',\n",
       " 'unveiled',\n",
       " 'straight',\n",
       " 'thing',\n",
       " 'carrier',\n",
       " 'fails',\n",
       " 'tackle',\n",
       " 'south',\n",
       " 'anticipated',\n",
       " 'hoping',\n",
       " 'citing',\n",
       " 'spammers',\n",
       " 'message',\n",
       " '63',\n",
       " 'recovery',\n",
       " 'washington',\n",
       " 'serena',\n",
       " 'two',\n",
       " 'arizona',\n",
       " 'bankruptcy',\n",
       " 'brand',\n",
       " 'yankee',\n",
       " 'williams',\n",
       " '39re',\n",
       " 'marked',\n",
       " 'hours',\n",
       " 'light',\n",
       " 'song',\n",
       " 'end',\n",
       " 'virtual',\n",
       " 'cbsmw',\n",
       " 'jp',\n",
       " 'american',\n",
       " 'votes',\n",
       " 'paris',\n",
       " 'governments',\n",
       " 'serifarialhelvetica',\n",
       " 'science',\n",
       " 'republic',\n",
       " 'option',\n",
       " 'planes',\n",
       " 'kerry',\n",
       " 'early',\n",
       " 'country',\n",
       " 'john',\n",
       " 'revised',\n",
       " 'buying',\n",
       " 'canadian',\n",
       " 'study',\n",
       " 'oil',\n",
       " 'diego',\n",
       " 'success',\n",
       " 'popular',\n",
       " 'break',\n",
       " 'trouble',\n",
       " 'music',\n",
       " 'businesses',\n",
       " 'source',\n",
       " 'rebels',\n",
       " 'leading',\n",
       " 'information',\n",
       " 'documents',\n",
       " 'companies',\n",
       " 'natural',\n",
       " 'fed',\n",
       " 'increasingly',\n",
       " 'rebounds',\n",
       " 'threatening',\n",
       " 'ivan',\n",
       " 'met',\n",
       " 'cuts',\n",
       " 'leads',\n",
       " 'demands',\n",
       " 'push',\n",
       " 'new',\n",
       " 'history',\n",
       " 'bill',\n",
       " 'worries',\n",
       " 'mount',\n",
       " 'gulf',\n",
       " 'english',\n",
       " 'stay',\n",
       " 'profit',\n",
       " 'try',\n",
       " 'kong',\n",
       " 'measure',\n",
       " 'auburn',\n",
       " 'putin',\n",
       " 'high',\n",
       " 'goahead',\n",
       " 'signed',\n",
       " 'anaheim',\n",
       " 'delta',\n",
       " 'income',\n",
       " 'basketball',\n",
       " 'airlines',\n",
       " 'retailer',\n",
       " '15',\n",
       " '2002',\n",
       " 'fastest',\n",
       " 'regular',\n",
       " 'flat',\n",
       " 'development',\n",
       " 'ensure',\n",
       " 'johnson',\n",
       " 'suffering',\n",
       " 'lta',\n",
       " 'merger',\n",
       " 'resources',\n",
       " 'agreed',\n",
       " 'resigned',\n",
       " 'got',\n",
       " 'october',\n",
       " '26',\n",
       " 'business',\n",
       " 'lose',\n",
       " 'closing',\n",
       " 'want',\n",
       " 'work',\n",
       " 'flushing',\n",
       " 'france',\n",
       " 'pipeline',\n",
       " 'week',\n",
       " 'even',\n",
       " 'visit',\n",
       " 'relief',\n",
       " 'beginning',\n",
       " 'air',\n",
       " 'tale',\n",
       " 'involved',\n",
       " 'gave',\n",
       " ...}"
      ]
     },
     "execution_count": 83,
     "metadata": {},
     "output_type": "execute_result"
    }
   ],
   "source": [
    "vocabulary"
   ]
  },
  {
   "cell_type": "code",
   "execution_count": 116,
   "id": "ecefbc15",
   "metadata": {},
   "outputs": [],
   "source": [
    "def get_vector_for_a_sentence(sentence):\n",
    "    res = np.zeros(wv.vector_size)\n",
    "    for word in sentence.split(' '):\n",
    "        if word in wv:\n",
    "            res+=wv[word]\n",
    "    return res/len(sentence.split(' '))"
   ]
  },
  {
   "cell_type": "code",
   "execution_count": 118,
   "id": "fb66c7ad",
   "metadata": {},
   "outputs": [],
   "source": [
    "def get_input_vector_from_training_set(training_set):\n",
    "    res = []\n",
    "    for sentence in training_set:\n",
    "        res.append(get_vector_for_a_sentence(sentence))\n",
    "    return np.array(res)"
   ]
  },
  {
   "cell_type": "code",
   "execution_count": 126,
   "id": "2a09a218",
   "metadata": {},
   "outputs": [],
   "source": [
    "import torch"
   ]
  },
  {
   "cell_type": "code",
   "execution_count": 148,
   "id": "3f71b5cd",
   "metadata": {},
   "outputs": [],
   "source": [
    "import torch.nn as nn\n",
    "import torch.nn.functional as F\n",
    "from torch.utils.data import TensorDataset, DataLoader"
   ]
  },
  {
   "cell_type": "code",
   "execution_count": 131,
   "id": "47037289",
   "metadata": {},
   "outputs": [],
   "source": [
    "class NewsClassifier(nn.Module):\n",
    "    def __init__(self,input_dim = 300,hidden_dim=128,output_dim=4):\n",
    "        super(NewsClassifier,self).__init__()\n",
    "        self.fc1 = nn.Linear(input_dim,hidden_dim)\n",
    "        self.relu = nn.ReLU()\n",
    "        self.fc2 = nn.Linear(hidden_dim,output_dim)\n",
    "        \n",
    "    def forward(self,x):\n",
    "        x = self.fc1(x)\n",
    "        x = self.relu(x)\n",
    "        x = self.fc2(x)\n",
    "        return x"
   ]
  },
  {
   "cell_type": "code",
   "execution_count": 163,
   "id": "ed5af35a",
   "metadata": {},
   "outputs": [],
   "source": [
    "model = NewsClassifier()"
   ]
  },
  {
   "cell_type": "code",
   "execution_count": 164,
   "id": "2d57a1fc",
   "metadata": {},
   "outputs": [],
   "source": [
    "criterion = nn.CrossEntropyLoss()\n"
   ]
  },
  {
   "cell_type": "code",
   "execution_count": 165,
   "id": "5a005602",
   "metadata": {},
   "outputs": [],
   "source": [
    "y_train = np.array(labels)"
   ]
  },
  {
   "cell_type": "code",
   "execution_count": 166,
   "id": "99f91a25",
   "metadata": {},
   "outputs": [],
   "source": [
    "x_train = get_input_vector_from_training_set(processed_texts)"
   ]
  },
  {
   "cell_type": "code",
   "execution_count": 167,
   "id": "0a537ca9",
   "metadata": {},
   "outputs": [],
   "source": [
    "def train(x_train,y_train,num_epochs = 100):\n",
    "    # converting the numpy array to tensors\n",
    "    x_tensor = torch.from_numpy(x_train).float()\n",
    "    y_tensor = torch.from_numpy(y_train).long()\n",
    "    \n",
    "    # creating a dataset \n",
    "    train_dataset = TensorDataset(x_tensor,y_tensor)\n",
    "    batch_size = 32\n",
    "    learning_rate = 0.001\n",
    "    train_loader = DataLoader(train_dataset,batch_size=batch_size,shuffle=True)\n",
    "    optimizer = torch.optim.Adam(model.parameters(),lr=learning_rate)\n",
    "    for epochs in range(num_epochs):\n",
    "        i=0\n",
    "        for data,target in train_loader:\n",
    "            # Forward Pass\n",
    "            outputs = model(data)\n",
    "            loss = criterion(outputs, target)\n",
    "\n",
    "            # Backward pass and update parameters\n",
    "            optimizer.zero_grad()\n",
    "            loss.backward()\n",
    "            optimizer.step()\n",
    "\n",
    "            # Print training progress (optional)\n",
    "            if (i+1) % 100 == 0:  # Print every 100 mini-batches\n",
    "              print(f'Epoch [{epoch+1}/{num_epochs}], Step [{i+1}/{len(train_loader)}], Loss: {loss.item():.4f}')\n",
    "            i+=1\n",
    "    return model"
   ]
  },
  {
   "cell_type": "code",
   "execution_count": 168,
   "id": "a16b507e",
   "metadata": {},
   "outputs": [],
   "source": [
    "model = train(x_train,y_train)"
   ]
  },
  {
   "cell_type": "code",
   "execution_count": 169,
   "id": "8a427273",
   "metadata": {},
   "outputs": [
    {
     "data": {
      "text/plain": [
       "tensor([  2.9474, -16.4437,   1.1896,  -4.5772], grad_fn=<ViewBackward0>)"
      ]
     },
     "execution_count": 169,
     "metadata": {},
     "output_type": "execute_result"
    }
   ],
   "source": [
    "model(torch.from_numpy(get_vector_for_a_sentence(preprocessed_texts[0])).float())"
   ]
  },
  {
   "cell_type": "code",
   "execution_count": 176,
   "id": "e47d7e87",
   "metadata": {},
   "outputs": [],
   "source": [
    "df_test,preprocessed_test_text,test_labels = preprocess_data(\"NLP3/test.csv\")"
   ]
  },
  {
   "cell_type": "code",
   "execution_count": 177,
   "id": "494b0d86",
   "metadata": {},
   "outputs": [],
   "source": [
    "x_test = get_input_vector_from_training_set(preprocessed_test_text)\n",
    "y_test = np.array(test_labels)"
   ]
  },
  {
   "cell_type": "code",
   "execution_count": 175,
   "id": "027f1a86",
   "metadata": {},
   "outputs": [],
   "source": [
    "from sklearn.metrics import accuracy_score, f1_score, confusion_matrix"
   ]
  },
  {
   "cell_type": "code",
   "execution_count": 181,
   "id": "2d3109a5",
   "metadata": {},
   "outputs": [],
   "source": [
    "def evaluate_model(model,x_test,y_test):\n",
    "    with torch.no_grad():\n",
    "        test_outputs = model(torch.from_numpy(x_test).float())\n",
    "        _,preds = torch.max(test_outputs,1)\n",
    "    \n",
    "    test_acc = accuracy_score(y_test, preds.numpy())\n",
    "    test_f1 = f1_score(y_test, preds.numpy(), average='macro')\n",
    "    conf_matrix = confusion_matrix(y_test, preds.numpy())\n",
    "    \n",
    "    return test_acc, test_f1, conf_matrix, preds.numpy()"
   ]
  },
  {
   "cell_type": "code",
   "execution_count": 182,
   "id": "13e0d5dc",
   "metadata": {},
   "outputs": [],
   "source": [
    "test_acc,test_f1,conf_matrix,predictions = evaluate_model(model,x_test,y_test)"
   ]
  },
  {
   "cell_type": "code",
   "execution_count": 183,
   "id": "2f68bb8a",
   "metadata": {},
   "outputs": [
    {
     "data": {
      "text/plain": [
       "0.838"
      ]
     },
     "execution_count": 183,
     "metadata": {},
     "output_type": "execute_result"
    }
   ],
   "source": [
    "test_acc"
   ]
  },
  {
   "cell_type": "code",
   "execution_count": 184,
   "id": "d6efda81",
   "metadata": {},
   "outputs": [
    {
     "data": {
      "text/plain": [
       "0.8386016409385049"
      ]
     },
     "execution_count": 184,
     "metadata": {},
     "output_type": "execute_result"
    }
   ],
   "source": [
    "test_f1"
   ]
  },
  {
   "cell_type": "code",
   "execution_count": 185,
   "id": "2791cf33",
   "metadata": {},
   "outputs": [
    {
     "data": {
      "text/plain": [
       "array([[107,   4,   9,   5],\n",
       "       [  8, 113,   1,   3],\n",
       "       [  9,   1,  98,  17],\n",
       "       [  5,   1,  18, 101]])"
      ]
     },
     "execution_count": 185,
     "metadata": {},
     "output_type": "execute_result"
    }
   ],
   "source": [
    "conf_matrix"
   ]
  },
  {
   "cell_type": "code",
   "execution_count": 186,
   "id": "921b1788",
   "metadata": {},
   "outputs": [
    {
     "data": {
      "text/plain": [
       "array([0, 0, 0, 0, 0, 0, 0, 0, 0, 0, 0, 2, 0, 0, 0, 0, 3, 0, 0, 0, 0, 0,\n",
       "       0, 0, 0, 0, 0, 0, 0, 0, 2, 0, 0, 0, 0, 0, 0, 0, 0, 0, 0, 0, 3, 1,\n",
       "       2, 0, 0, 0, 0, 0, 0, 0, 0, 0, 0, 2, 0, 0, 0, 0, 0, 0, 0, 0, 0, 0,\n",
       "       0, 0, 2, 0, 1, 0, 0, 0, 0, 0, 0, 0, 0, 0, 0, 0, 3, 0, 2, 0, 0, 0,\n",
       "       1, 0, 0, 0, 0, 0, 0, 0, 0, 0, 0, 0, 2, 3, 0, 0, 3, 0, 0, 0, 2, 0,\n",
       "       0, 0, 0, 0, 2, 0, 0, 0, 0, 1, 0, 0, 0, 0, 0, 1, 1, 1, 1, 1, 1, 1,\n",
       "       1, 1, 1, 1, 1, 1, 1, 1, 1, 1, 1, 1, 1, 1, 1, 1, 1, 1, 0, 3, 1, 0,\n",
       "       1, 1, 1, 1, 1, 1, 1, 1, 1, 1, 1, 1, 1, 1, 1, 1, 1, 1, 0, 1, 1, 0,\n",
       "       1, 0, 1, 1, 1, 1, 1, 1, 1, 2, 1, 1, 1, 1, 1, 1, 1, 1, 3, 1, 1, 1,\n",
       "       1, 1, 1, 1, 1, 1, 1, 1, 1, 1, 1, 0, 1, 1, 1, 1, 1, 1, 1, 0, 1, 1,\n",
       "       1, 1, 3, 1, 1, 1, 1, 1, 1, 1, 1, 1, 1, 1, 1, 1, 1, 1, 1, 1, 1, 0,\n",
       "       1, 1, 1, 1, 1, 1, 1, 1, 2, 2, 2, 2, 3, 3, 2, 2, 2, 2, 3, 2, 2, 2,\n",
       "       2, 2, 2, 2, 2, 3, 0, 2, 2, 2, 3, 3, 2, 2, 2, 2, 2, 0, 2, 2, 2, 2,\n",
       "       2, 3, 0, 2, 2, 2, 2, 2, 2, 3, 2, 3, 3, 2, 3, 2, 2, 2, 2, 0, 2, 2,\n",
       "       2, 2, 3, 2, 2, 3, 3, 2, 3, 2, 2, 2, 2, 2, 2, 2, 2, 2, 2, 3, 2, 2,\n",
       "       0, 0, 2, 2, 0, 2, 0, 2, 2, 2, 2, 2, 2, 1, 2, 2, 2, 2, 2, 2, 2, 2,\n",
       "       2, 2, 2, 2, 2, 0, 2, 2, 2, 3, 2, 2, 2, 2, 2, 2, 2, 2, 2, 2, 2, 2,\n",
       "       2, 3, 2, 3, 3, 3, 3, 3, 0, 3, 3, 3, 2, 3, 3, 3, 3, 2, 3, 3, 3, 2,\n",
       "       3, 3, 3, 2, 3, 0, 3, 3, 3, 3, 2, 2, 3, 3, 3, 3, 3, 2, 3, 2, 2, 3,\n",
       "       0, 3, 3, 3, 3, 2, 3, 3, 3, 3, 3, 2, 3, 2, 2, 3, 3, 3, 3, 1, 3, 3,\n",
       "       3, 3, 3, 3, 3, 3, 3, 3, 3, 3, 3, 3, 3, 3, 3, 3, 3, 0, 3, 3, 0, 3,\n",
       "       3, 3, 3, 3, 3, 3, 3, 3, 3, 3, 3, 3, 3, 3, 3, 3, 3, 3, 2, 3, 3, 3,\n",
       "       3, 3, 3, 3, 3, 3, 3, 3, 3, 3, 3, 2, 3, 2, 2, 3])"
      ]
     },
     "execution_count": 186,
     "metadata": {},
     "output_type": "execute_result"
    }
   ],
   "source": [
    "predictions"
   ]
  }
 ],
 "metadata": {
  "kernelspec": {
   "display_name": "Python 3 (ipykernel)",
   "language": "python",
   "name": "python3"
  },
  "language_info": {
   "codemirror_mode": {
    "name": "ipython",
    "version": 3
   },
   "file_extension": ".py",
   "mimetype": "text/x-python",
   "name": "python",
   "nbconvert_exporter": "python",
   "pygments_lexer": "ipython3",
   "version": "3.10.12"
  }
 },
 "nbformat": 4,
 "nbformat_minor": 5
}
