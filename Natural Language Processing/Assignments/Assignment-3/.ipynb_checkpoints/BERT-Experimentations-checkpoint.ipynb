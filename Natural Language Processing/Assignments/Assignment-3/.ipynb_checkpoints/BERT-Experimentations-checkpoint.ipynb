{
 "cells": [
  {
   "cell_type": "code",
   "execution_count": 34,
   "id": "64ed6e91",
   "metadata": {},
   "outputs": [],
   "source": [
    "import pandas as pd\n",
    "import numpy as np\n",
    "import nltk\n",
    "from sklearn.model_selection import train_test_split\n",
    "from gensim.models import Word2Vec\n",
    "from nltk.tokenize import word_tokenize\n",
    "from nltk.corpus import stopwords\n",
    "import re\n",
    "from collections import Counter"
   ]
  },
  {
   "cell_type": "code",
   "execution_count": null,
   "id": "4da408a6",
   "metadata": {},
   "outputs": [],
   "source": [
    "# Preprocessing part should be completed\n",
    "# Read about creating neural networks in pytorch and using features generated from the word2vec model\n",
    "# Read about RNNs and LSTMs from PyTorch Library\n",
    "\n",
    "# Start RTSM and Revise Lab Assignments 1-5"
   ]
  },
  {
   "cell_type": "code",
   "execution_count": 35,
   "id": "eee9ff0c",
   "metadata": {},
   "outputs": [
    {
     "name": "stdout",
     "output_type": "stream",
     "text": [
      "   index                                               text  label\n",
      "0      0  Zimbabwe annual inflation drops to 209 percent...      0\n",
      "1      1  More than 1,000 dead in Haiti (09/23/04)-- A m...      0\n",
      "2      2  Seven die in Japan  #39;suicide pact #39; Japa...      0\n",
      "3      3  Security No. 1 for Afghan head President Hamid...      0\n",
      "4      4  Palestinians say they hope Bush accepts dealin...      0\n"
     ]
    }
   ],
   "source": [
    "data = pd.read_csv(\"./NLP3/train.csv\")\n",
    "print(data.head())"
   ]
  },
  {
   "cell_type": "code",
   "execution_count": 36,
   "id": "f6bcc266",
   "metadata": {},
   "outputs": [],
   "source": [
    "def preprocess_text(text):\n",
    "    text = text.lower()\n",
    "    text = text.replace('\\\\', ' ')\n",
    "    text = re.sub(r'[^a-zA-Z\\s]', '', text)\n",
    "    tokens = word_tokenize(text)\n",
    "    stop_words = set(stopwords.words('english'))\n",
    "    tokens = [word for word in tokens if word not in stop_words]\n",
    "    return tokens"
   ]
  },
  {
   "cell_type": "code",
   "execution_count": 39,
   "id": "ed19c358",
   "metadata": {},
   "outputs": [],
   "source": [
    "data['prep'] = data['text'].apply(preprocess_text)"
   ]
  },
  {
   "cell_type": "code",
   "execution_count": 40,
   "id": "6720288e",
   "metadata": {},
   "outputs": [],
   "source": [
    "all_words = [word for text in data['prep'] for word in text]\n",
    "word_freq = Counter(all_words)\n",
    "\n",
    "total_words = len(all_words)\n",
    "min_word_freq = 5\n",
    "max_word_freq = 0.95 * total_words\n",
    "\n",
    "vocabulary = set(word for word, freq in word_freq.items() if min_word_freq <= freq <= max_word_freq)"
   ]
  },
  {
   "cell_type": "code",
   "execution_count": 41,
   "id": "e3c0f22e",
   "metadata": {},
   "outputs": [],
   "source": [
    "train_data, val_data = train_test_split(data, test_size=0.1, random_state=34)\n",
    "\n",
    "word2vec_model = Word2Vec(sentences=train_data['prep'], vector_size=100, window=5, min_count=1, workers=4)"
   ]
  },
  {
   "cell_type": "code",
   "execution_count": 50,
   "id": "87dced13",
   "metadata": {},
   "outputs": [],
   "source": [
    "# Function to generate feature vectors\n",
    "def generate_feature_vectors(words, model, num_features):\n",
    "    feature_vector = np.zeros((num_features,), dtype=\"float32\")\n",
    "    n_words = 0\n",
    "    for word in words:\n",
    "        if word in model.wv:\n",
    "            n_words += 1\n",
    "            feature_vector = np.add(feature_vector, model.wv[word])\n",
    "    if n_words > 0:\n",
    "        feature_vector = np.divide(feature_vector, n_words)\n",
    "    return feature_vector"
   ]
  },
  {
   "cell_type": "code",
   "execution_count": 63,
   "id": "e2365905",
   "metadata": {},
   "outputs": [],
   "source": [
    "label_encoder = LabelEncoder()\n",
    "y_train = label_encoder.fit_transform(train_data['label'])\n",
    "y_val = label_encoder.transform(val_data['label'])"
   ]
  },
  {
   "cell_type": "markdown",
   "id": "360c788e",
   "metadata": {},
   "source": [
    "## Training the model using Neural Networks"
   ]
  },
  {
   "cell_type": "code",
   "execution_count": 64,
   "id": "265a5b77",
   "metadata": {},
   "outputs": [],
   "source": [
    "class SimpleNN(nn.Module):\n",
    "    def __init__(self, input_dim, output_dim):\n",
    "        super(SimpleNN, self).__init__()\n",
    "        self.fc1 = nn.Linear(input_dim, 128)\n",
    "        self.fc2 = nn.Linear(128, 64)\n",
    "        self.fc3 = nn.Linear(64, output_dim)\n",
    "        self.relu = nn.ReLU()\n",
    "        self.softmax = nn.Softmax(dim=1)\n",
    "        \n",
    "    def forward(self, x):\n",
    "        x = self.fc1(x)\n",
    "        x = self.relu(x)\n",
    "        x = self.fc2(x)\n",
    "        x = self.relu(x)\n",
    "        x = self.fc3(x)\n",
    "        x = self.softmax(x)\n",
    "        return x\n",
    "\n",
    "class CustomDataset(Dataset):\n",
    "    def __init__(self, X, y):\n",
    "        self.X = torch.tensor(X, dtype=torch.float32)\n",
    "        self.y = torch.tensor(y, dtype=torch.long)\n",
    "    \n",
    "    def __len__(self):\n",
    "        return len(self.X)\n",
    "    \n",
    "    def __getitem__(self, idx):\n",
    "        return self.X[idx], self.y[idx]"
   ]
  },
  {
   "cell_type": "code",
   "execution_count": 67,
   "id": "ba94fcb0",
   "metadata": {},
   "outputs": [
    {
     "name": "stdout",
     "output_type": "stream",
     "text": [
      "Epoch 1/50, Validation Loss: 1.386442631483078\n",
      "Epoch 2/50, Validation Loss: 1.3864478468894958\n",
      "Epoch 3/50, Validation Loss: 1.3863426446914673\n",
      "Epoch 4/50, Validation Loss: 1.3862668573856354\n",
      "Epoch 5/50, Validation Loss: 1.3860287070274353\n",
      "Epoch 6/50, Validation Loss: 1.3855620622634888\n",
      "Epoch 7/50, Validation Loss: 1.3841602504253387\n",
      "Epoch 8/50, Validation Loss: 1.3817118704319\n",
      "Epoch 9/50, Validation Loss: 1.3762134909629822\n",
      "Epoch 10/50, Validation Loss: 1.3707899451255798\n",
      "Epoch 11/50, Validation Loss: 1.3656941652297974\n",
      "Epoch 12/50, Validation Loss: 1.3594625890254974\n",
      "Epoch 13/50, Validation Loss: 1.356972098350525\n",
      "Epoch 14/50, Validation Loss: 1.3612125217914581\n",
      "Epoch 15/50, Validation Loss: 1.3581072092056274\n",
      "Epoch 16/50, Validation Loss: 1.3567207157611847\n",
      "Epoch 17/50, Validation Loss: 1.3516434729099274\n",
      "Epoch 18/50, Validation Loss: 1.358217179775238\n",
      "Epoch 19/50, Validation Loss: 1.3541070222854614\n",
      "Epoch 20/50, Validation Loss: 1.3553480505943298\n",
      "Epoch 21/50, Validation Loss: 1.3591108918190002\n",
      "Epoch 22/50, Validation Loss: 1.357036828994751\n",
      "Epoch 23/50, Validation Loss: 1.3542765080928802\n",
      "Epoch 24/50, Validation Loss: 1.349090039730072\n",
      "Epoch 25/50, Validation Loss: 1.345315843820572\n",
      "Epoch 26/50, Validation Loss: 1.3477518558502197\n",
      "Epoch 27/50, Validation Loss: 1.3456430435180664\n",
      "Epoch 28/50, Validation Loss: 1.3483715057373047\n",
      "Epoch 29/50, Validation Loss: 1.346668779850006\n",
      "Epoch 30/50, Validation Loss: 1.3444477915763855\n",
      "Epoch 31/50, Validation Loss: 1.3419267237186432\n",
      "Epoch 32/50, Validation Loss: 1.3487846851348877\n",
      "Epoch 33/50, Validation Loss: 1.3437130749225616\n",
      "Epoch 34/50, Validation Loss: 1.3408672511577606\n",
      "Epoch 35/50, Validation Loss: 1.3469811975955963\n",
      "Epoch 36/50, Validation Loss: 1.3428746163845062\n",
      "Epoch 37/50, Validation Loss: 1.3417771458625793\n",
      "Epoch 38/50, Validation Loss: 1.3422633707523346\n",
      "Epoch 39/50, Validation Loss: 1.340193897485733\n",
      "Epoch 40/50, Validation Loss: 1.3369184136390686\n",
      "Epoch 41/50, Validation Loss: 1.3362955152988434\n",
      "Epoch 42/50, Validation Loss: 1.3350504338741302\n",
      "Epoch 43/50, Validation Loss: 1.33468759059906\n",
      "Epoch 44/50, Validation Loss: 1.3339178562164307\n",
      "Epoch 45/50, Validation Loss: 1.3329136371612549\n",
      "Epoch 46/50, Validation Loss: 1.3317246437072754\n",
      "Epoch 47/50, Validation Loss: 1.3320263028144836\n",
      "Epoch 48/50, Validation Loss: 1.3310195207595825\n",
      "Epoch 49/50, Validation Loss: 1.328862339258194\n",
      "Epoch 50/50, Validation Loss: 1.3299255073070526\n"
     ]
    },
    {
     "data": {
      "text/plain": [
       "SimpleNN(\n",
       "  (fc1): Linear(in_features=100, out_features=128, bias=True)\n",
       "  (fc2): Linear(in_features=128, out_features=64, bias=True)\n",
       "  (fc3): Linear(in_features=64, out_features=4, bias=True)\n",
       "  (relu): ReLU()\n",
       "  (softmax): Softmax(dim=1)\n",
       ")"
      ]
     },
     "execution_count": 67,
     "metadata": {},
     "output_type": "execute_result"
    }
   ],
   "source": [
    "def train_model(model, train_loader, val_loader, criterion, optimizer, num_epochs):\n",
    "    best_val_loss = float('inf')\n",
    "    for epoch in range(num_epochs):\n",
    "        model.train()\n",
    "        for inputs, labels in train_loader:\n",
    "            optimizer.zero_grad()\n",
    "            outputs = model(inputs)\n",
    "            loss = criterion(outputs, labels)\n",
    "            loss.backward()\n",
    "            optimizer.step()\n",
    "        \n",
    "        model.eval()\n",
    "        val_loss = 0.0\n",
    "        with torch.no_grad():\n",
    "            for inputs, labels in val_loader:\n",
    "                outputs = model(inputs)\n",
    "                val_loss += criterion(outputs, labels).item()\n",
    "        \n",
    "        val_loss /= len(val_loader)\n",
    "        print(f\"Epoch {epoch+1}/{num_epochs}, Validation Loss: {val_loss}\")\n",
    "        \n",
    "        if val_loss < best_val_loss:\n",
    "            best_val_loss = val_loss\n",
    "            torch.save(model.state_dict(), 'best_model.pt')\n",
    "\n",
    "test_data = pd.read_csv('./NLP3/test.csv')\n",
    "test_data['text'] = test_data['text'].apply(preprocess_text)\n",
    "X_test = np.array([generate_feature_vectors(text, word2vec_model, 100) for text in test_data['text']])\n",
    "y_test = label_encoder.transform(test_data['label'])\n",
    "\n",
    "train_dataset = CustomDataset(X_train, y_train)\n",
    "val_dataset = CustomDataset(X_val, y_val)\n",
    "test_dataset = CustomDataset(X_test, y_test)\n",
    "train_loader = DataLoader(train_dataset, batch_size=64, shuffle=True)\n",
    "val_loader = DataLoader(val_dataset, batch_size=64, shuffle=False)\n",
    "test_loader = DataLoader(test_dataset, batch_size=64, shuffle=False)\n",
    "\n",
    "model = SimpleNN(input_dim=100, output_dim=4)\n",
    "criterion = nn.CrossEntropyLoss()\n",
    "optimizer = optim.Adam(model.parameters(), lr=0.001)\n",
    "\n",
    "train_model(model, train_loader, val_loader, criterion, optimizer, num_epochs=50)\n",
    "\n",
    "best_model = SimpleNN(input_dim=100, output_dim=4)\n",
    "best_model.load_state_dict(torch.load('best_model.pt'))\n",
    "best_model.eval()"
   ]
  },
  {
   "cell_type": "code",
   "execution_count": 68,
   "id": "edc5a328",
   "metadata": {},
   "outputs": [
    {
     "name": "stdout",
     "output_type": "stream",
     "text": [
      "Test Accuracy: 0.312\n",
      "Test Macro-F1 Score: 0.29943563185088606\n"
     ]
    },
    {
     "data": {
      "image/png": "[encoded data removed]",
      "text/plain": [
       "<Figure size 576x432 with 2 Axes>"
      ]
     },
     "metadata": {
      "needs_background": "light"
     },
     "output_type": "display_data"
    },
    {
     "data": {
      "image/png": "[encoded data removed]",
      "text/plain": [
       "<Figure size 576x432 with 2 Axes>"
      ]
     },
     "metadata": {
      "needs_background": "light"
     },
     "output_type": "display_data"
    }
   ],
   "source": [
    "def evaluate_model(model, test_loader):\n",
    "    all_preds = []\n",
    "    all_labels = []\n",
    "    with torch.no_grad():\n",
    "        for inputs, labels in test_loader:\n",
    "            outputs = model(inputs)\n",
    "            _, preds = torch.max(outputs, 1)\n",
    "            all_preds.extend(preds.tolist())\n",
    "            all_labels.extend(labels.tolist())\n",
    "    \n",
    "    return all_labels, all_preds\n",
    "\n",
    "# Get predictions on test set\n",
    "y_test_true, y_test_pred = evaluate_model(best_model, test_loader)\n",
    "\n",
    "# Calculate accuracy and macro-F1 score\n",
    "test_accuracy = accuracy_score(y_test_true, y_test_pred)\n",
    "test_macro_f1 = f1_score(y_test_true, y_test_pred, average='macro')\n",
    "\n",
    "print(\"Test Accuracy:\", test_accuracy)\n",
    "print(\"Test Macro-F1 Score:\", test_macro_f1)\n",
    "\n",
    "# Plot confusion matrix\n",
    "def plot_confusion_matrix(y_true, y_pred, labels):\n",
    "    cm = confusion_matrix(y_true, y_pred, labels=labels)\n",
    "    plt.figure(figsize=(8, 6))\n",
    "    sns.heatmap(cm, annot=True, fmt='d', cmap='Blues', xticklabels=labels, yticklabels=labels)\n",
    "    plt.xlabel('Predicted labels')\n",
    "    plt.ylabel('True labels')\n",
    "    plt.title('Confusion Matrix')\n",
    "    plt.show()\n",
    "\n",
    "# Plot classification report\n",
    "def plot_classification_report(y_true, y_pred, target_names):\n",
    "    report = classification_report(y_true, y_pred, target_names=target_names, output_dict=True, zero_division=1)\n",
    "    plt.figure(figsize=(8, 6))\n",
    "    sns.heatmap(pd.DataFrame(report).iloc[:-1, :].T, annot=True, cmap='Blues')\n",
    "    plt.title('Classification Report')\n",
    "    plt.show()\n",
    "\n",
    "# Define target names for plotting\n",
    "target_names = ['World', 'Sports', 'Business', 'Science/Technology']\n",
    "\n",
    "# Plot confusion matrix\n",
    "plot_confusion_matrix(y_test_true, y_test_pred, labels=[0, 1, 2, 3])\n",
    "\n",
    "# Plot classification report\n",
    "plot_classification_report(y_test_true, y_test_pred, target_names)"
   ]
  },
  {
   "cell_type": "code",
   "execution_count": null,
   "id": "6894c608",
   "metadata": {},
   "outputs": [],
   "source": []
  }
 ],
 "metadata": {
  "kernelspec": {
   "display_name": "Python 3 (ipykernel)",
   "language": "python",
   "name": "python3"
  },
  "language_info": {
   "codemirror_mode": {
    "name": "ipython",
    "version": 3
   },
   "file_extension": ".py",
   "mimetype": "text/x-python",
   "name": "python",
   "nbconvert_exporter": "python",
   "pygments_lexer": "ipython3",
   "version": "3.10.12"
  }
 },
 "nbformat": 4,
 "nbformat_minor": 5
}
