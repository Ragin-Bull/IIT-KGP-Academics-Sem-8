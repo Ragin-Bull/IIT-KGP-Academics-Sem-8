{
 "cells": [
  {
   "cell_type": "code",
   "execution_count": 28,
   "id": "64ed6e91",
   "metadata": {},
   "outputs": [],
   "source": [
    "import pandas as pd\n",
    "import numpy as np\n",
    "import nltk\n",
    "from sklearn.model_selection import train_test_split\n",
    "from sklearn.preprocessing import LabelEncoder\n",
    "from gensim.models import Word2Vec\n",
    "from nltk.tokenize import word_tokenize\n",
    "import torch\n",
    "import torchvision\n",
    "import torch.nn as nn\n",
    "from nltk.corpus import stopwords\n",
    "from torch.utils.data import DataLoader, TensorDataset\n",
    "import re\n",
    "from collections import Counter"
   ]
  },
  {
   "cell_type": "code",
   "execution_count": 2,
   "id": "cf619627",
   "metadata": {},
   "outputs": [
    {
     "name": "stderr",
     "output_type": "stream",
     "text": [
      "[nltk_data] Downloading package stopwords to\n",
      "[nltk_data]     /home/shatansh/nltk_data...\n",
      "[nltk_data]   Package stopwords is already up-to-date!\n"
     ]
    },
    {
     "data": {
      "text/plain": [
       "True"
      ]
     },
     "execution_count": 2,
     "metadata": {},
     "output_type": "execute_result"
    }
   ],
   "source": [
    "nltk.download('stopwords')"
   ]
  },
  {
   "cell_type": "code",
   "execution_count": 3,
   "id": "eee9ff0c",
   "metadata": {},
   "outputs": [
    {
     "name": "stdout",
     "output_type": "stream",
     "text": [
      "2000\n",
      "   index                                               text  label\n",
      "0      0  Zimbabwe annual inflation drops to 209 percent...      0\n",
      "1      1  More than 1,000 dead in Haiti (09/23/04)-- A m...      0\n",
      "2      2  Seven die in Japan  #39;suicide pact #39; Japa...      0\n",
      "3      3  Security No. 1 for Afghan head President Hamid...      0\n",
      "4      4  Palestinians say they hope Bush accepts dealin...      0\n"
     ]
    }
   ],
   "source": [
    "df = pd.read_csv(\"./NLP3/train.csv\")\n",
    "print(len(df['text']))\n",
    "print(df.head())"
   ]
  },
  {
   "cell_type": "code",
   "execution_count": 29,
   "id": "f6bcc266",
   "metadata": {},
   "outputs": [],
   "source": [
    "def preprocessText(text):\n",
    "    text = text.lower()\n",
    "    text = text.replace('\\\\', ' ')\n",
    "    text = re.sub(r'[^a-zA-Z\\s]', '', text)\n",
    "    tokens = word_tokenize(text)\n",
    "    stopWordsList = set(stopwords.words('english'))\n",
    "    newList = []\n",
    "    for token in tokens:\n",
    "        if token not in stopWordsList:\n",
    "            newList.append(token)\n",
    "    return newList"
   ]
  },
  {
   "cell_type": "code",
   "execution_count": 30,
   "id": "ed19c358",
   "metadata": {},
   "outputs": [
    {
     "name": "stdout",
     "output_type": "stream",
     "text": [
      "0    [zimbabwe, annual, inflation, drops, percent, ...\n",
      "1    [dead, haiti, mass, grave, haiti, holds, bodie...\n",
      "2    [seven, die, japan, suicide, pact, japanese, p...\n",
      "3    [security, afghan, head, president, hamid, kar...\n",
      "4    [palestinians, say, hope, bush, accepts, deali...\n",
      "Name: prep, dtype: object\n"
     ]
    }
   ],
   "source": [
    "df['prep'] = df['text'].apply(preprocessText)\n",
    "print(df['prep'].head())"
   ]
  },
  {
   "cell_type": "code",
   "execution_count": 31,
   "id": "6720288e",
   "metadata": {},
   "outputs": [
    {
     "name": "stdout",
     "output_type": "stream",
     "text": [
      "50387\n",
      "11856\n",
      "6009\n"
     ]
    }
   ],
   "source": [
    "# Preparing the vocabulary\n",
    "vocabOfAllWords = []\n",
    "\n",
    "for llist in df['prep']:\n",
    "    for word in llist:\n",
    "        vocabOfAllWords.append(word)\n",
    "\n",
    "freqOfAllWords = Counter(vocabOfAllWords)\n",
    "\n",
    "totalWords = len(vocabOfAllWords)\n",
    "minFreq = 2\n",
    "maxFreq = 0.95 * totalWords\n",
    "\n",
    "vocab = set()\n",
    "for word, freq in freqOfAllWords.items():\n",
    "    if freq<=maxFreq and freq>=minFreq:\n",
    "        vocab.add(word)\n",
    "\n",
    "print(len(vocabOfAllWords)) # Total number of words\n",
    "print(len(freqOfAllWords)) # Total number of unique words\n",
    "print(len(vocab)) # Total number of words after filtration"
   ]
  },
  {
   "cell_type": "code",
   "execution_count": 36,
   "id": "e3c0f22e",
   "metadata": {},
   "outputs": [
    {
     "name": "stdout",
     "output_type": "stream",
     "text": [
      "1800\n",
      "200\n"
     ]
    }
   ],
   "source": [
    "trainData, validationData = train_test_split(df, test_size=0.1, random_state=42)\n",
    "print(len(trainData))\n",
    "print(len(validationData))\n",
    "\n",
    "w2vModel = Word2Vec(sentences=trainData['prep'], vector_size=300, window=5, min_count=1, workers=4)"
   ]
  },
  {
   "cell_type": "code",
   "execution_count": null,
   "id": "87dced13",
   "metadata": {},
   "outputs": [],
   "source": [
    "# Function to generate feature vector for a given list of words\n",
    "def getFeatures(wordsList, model, numFeatures):\n",
    "    featureVec = np.zeros((num_features,), dtype=\"float32\")\n",
    "    nWords = 0\n",
    "    \n",
    "    for word in wordsList:\n",
    "        if word in model.wv:\n",
    "            nWords += 1\n",
    "            featureVec = np.add(featureVec, model.wv[word])\n",
    "            \n",
    "    if nWords > 0:\n",
    "        featureVec = np.divide(featureVec, nWords)\n",
    "        \n",
    "    return featureVec"
   ]
  },
  {
   "cell_type": "markdown",
   "id": "360c788e",
   "metadata": {},
   "source": [
    "## Training the model using Neural Networks"
   ]
  },
  {
   "cell_type": "code",
   "execution_count": null,
   "id": "265a5b77",
   "metadata": {},
   "outputs": [],
   "source": [
    "class NeuralNetwork(nn.Module):\n",
    "    def __init__(self, inputDim, outputDim):\n",
    "        super(NeuralNetwork, self).__init__()\n",
    "        self.layerOne = nn.Linear(inputDim, 128)\n",
    "        self.relu = nn.ReLU()\n",
    "        self.layerTwo = nn.Linear(128, 64)\n",
    "        self.layerThree = nn.Linear(64, outputDim)\n",
    "        \n",
    "    def forward(self, x):\n",
    "        out = self.layerOne(x)\n",
    "        out = self.relu(out)\n",
    "        out = self.layerTwo(out)\n",
    "        out = self.relu(out)\n",
    "        out = self.layerThree(out)\n",
    "        return out"
   ]
  },
  {
   "cell_type": "code",
   "execution_count": 33,
   "id": "9ad8d6ee",
   "metadata": {},
   "outputs": [
    {
     "ename": "NameError",
     "evalue": "name 'model' is not defined",
     "output_type": "error",
     "traceback": [
      "\u001b[0;31m---------------------------------------------------------------------------\u001b[0m",
      "\u001b[0;31mNameError\u001b[0m                                 Traceback (most recent call last)",
      "\u001b[0;32m/tmp/ipykernel_9592/59772164.py\u001b[0m in \u001b[0;36m<module>\u001b[0;34m\u001b[0m\n\u001b[1;32m      1\u001b[0m \u001b[0malpha\u001b[0m \u001b[0;34m=\u001b[0m \u001b[0;36m0.005\u001b[0m\u001b[0;34m\u001b[0m\u001b[0;34m\u001b[0m\u001b[0m\n\u001b[1;32m      2\u001b[0m \u001b[0mcriterion\u001b[0m \u001b[0;34m=\u001b[0m \u001b[0mnn\u001b[0m\u001b[0;34m.\u001b[0m\u001b[0mCrossEntropyLoss\u001b[0m\u001b[0;34m(\u001b[0m\u001b[0;34m)\u001b[0m\u001b[0;34m\u001b[0m\u001b[0;34m\u001b[0m\u001b[0m\n\u001b[0;32m----> 3\u001b[0;31m \u001b[0moptimizer\u001b[0m \u001b[0;34m=\u001b[0m \u001b[0mtorch\u001b[0m\u001b[0;34m.\u001b[0m\u001b[0moptim\u001b[0m\u001b[0;34m.\u001b[0m\u001b[0mAdam\u001b[0m\u001b[0;34m(\u001b[0m\u001b[0mmodel\u001b[0m\u001b[0;34m.\u001b[0m\u001b[0mparameters\u001b[0m\u001b[0;34m(\u001b[0m\u001b[0;34m)\u001b[0m\u001b[0;34m,\u001b[0m \u001b[0mlr\u001b[0m\u001b[0;34m=\u001b[0m\u001b[0malpha\u001b[0m\u001b[0;34m)\u001b[0m\u001b[0;34m\u001b[0m\u001b[0;34m\u001b[0m\u001b[0m\n\u001b[0m",
      "\u001b[0;31mNameError\u001b[0m: name 'model' is not defined"
     ]
    }
   ],
   "source": [
    "def train_w2v_model(train_X, train_y, val_X, val_y, num_epochs=10):\n",
    "    model = W2VClassifier(input_dim=300, output_dim=4)\n",
    "    optimizer = torch.optim.Adam(model.parameters(), lr=0.001)\n",
    "    criterion = nn.CrossEntropyLoss()\n",
    "\n",
    "    for epoch in range(num_epochs):\n",
    "        model.train()\n",
    "        train_loss = 0\n",
    "        for i in range(len(train_X)):\n",
    "            optimizer.zero_grad()\n",
    "            output = model(torch.tensor(train_X[i]).unsqueeze(0))\n",
    "            loss = criterion(output, torch.tensor([train_y[i]]))\n",
    "            loss.backward()\n",
    "            optimizer.step()\n",
    "            train_loss += loss.item()\n",
    "\n",
    "        model.eval()\n",
    "        val_loss = 0\n",
    "        with torch.no_grad():\n",
    "            for i in range(len(val_X)):\n",
    "                output = model(torch.tensor(val_X[i]).unsqueeze(0))\n",
    "                loss = criterion(output, torch.tensor([val_y[i]]))\n",
    "                val_loss += loss.item()\n",
    "\n",
    "        print(f'Epoch {epoch+1}/{num_epochs}, Train Loss: {train_loss/len(train_X)}, Val Loss: {val_loss/len(val_X)}')\n",
    "\n",
    "    return model"
   ]
  },
  {
   "cell_type": "code",
   "execution_count": null,
   "id": "ba94fcb0",
   "metadata": {},
   "outputs": [],
   "source": [
    "def train_model(model, train_loader, val_loader, criterion, optimizer, num_epochs):\n",
    "    best_val_loss = float('inf')\n",
    "    for epoch in range(num_epochs):\n",
    "        model.train()\n",
    "        for inputs, labels in train_loader:\n",
    "            optimizer.zero_grad()\n",
    "            outputs = model(inputs)\n",
    "            loss = criterion(outputs, labels)\n",
    "            loss.backward()\n",
    "            optimizer.step()\n",
    "        \n",
    "        model.eval()\n",
    "        val_loss = 0.0\n",
    "        with torch.no_grad():\n",
    "            for inputs, labels in val_loader:\n",
    "                outputs = model(inputs)\n",
    "                val_loss += criterion(outputs, labels).item()\n",
    "        \n",
    "        val_loss /= len(val_loader)\n",
    "        print(f\"Epoch {epoch+1}/{num_epochs}, Validation Loss: {val_loss}\")\n",
    "        \n",
    "        if val_loss < best_val_loss:\n",
    "            best_val_loss = val_loss\n",
    "            torch.save(model.state_dict(), 'best_model.pt')\n",
    "\n",
    "test_data = pd.read_csv('./NLP3/test.csv')\n",
    "test_data['text'] = test_data['text'].apply(preprocess_text)\n",
    "X_test = np.array([generate_feature_vectors(text, word2vec_model, 100) for text in test_data['text']])\n",
    "y_test = label_encoder.transform(test_data['label'])\n",
    "\n",
    "train_dataset = CustomDataset(X_train, y_train)\n",
    "val_dataset = CustomDataset(X_val, y_val)\n",
    "test_dataset = CustomDataset(X_test, y_test)\n",
    "train_loader = DataLoader(train_dataset, batch_size=64, shuffle=True)\n",
    "val_loader = DataLoader(val_dataset, batch_size=64, shuffle=False)\n",
    "test_loader = DataLoader(test_dataset, batch_size=64, shuffle=False)\n",
    "\n",
    "model = SimpleNN(input_dim=100, output_dim=4)\n",
    "criterion = nn.CrossEntropyLoss()\n",
    "optimizer = optim.Adam(model.parameters(), lr=0.01)\n",
    "\n",
    "train_model(model, train_loader, val_loader, criterion, optimizer, num_epochs=50)\n",
    "\n",
    "best_model = SimpleNN(input_dim=100, output_dim=4)\n",
    "best_model.load_state_dict(torch.load('best_model.pt'))\n",
    "best_model.eval()"
   ]
  },
  {
   "cell_type": "code",
   "execution_count": null,
   "id": "edc5a328",
   "metadata": {},
   "outputs": [],
   "source": [
    "def evaluate_model(model, test_loader):\n",
    "    all_preds = []\n",
    "    all_labels = []\n",
    "    with torch.no_grad():\n",
    "        for inputs, labels in test_loader:\n",
    "            outputs = model(inputs)\n",
    "            _, preds = torch.max(outputs, 1)\n",
    "            all_preds.extend(preds.tolist())\n",
    "            all_labels.extend(labels.tolist())\n",
    "    \n",
    "    return all_labels, all_preds\n",
    "\n",
    "y_test_true, y_test_pred = evaluate_model(best_model, test_loader)\n",
    "\n",
    "test_accuracy = accuracy_score(y_test_true, y_test_pred)\n",
    "test_macro_f1 = f1_score(y_test_true, y_test_pred, average='macro')\n",
    "\n",
    "print(\"Test Accuracy:\", test_accuracy)\n",
    "print(\"Test Macro-F1 Score:\", test_macro_f1)\n",
    "\n",
    "def plot_confusion_matrix(y_true, y_pred, labels):\n",
    "    cm = confusion_matrix(y_true, y_pred, labels=labels)\n",
    "    plt.figure(figsize=(8, 6))\n",
    "    sns.heatmap(cm, annot=True, fmt='d', cmap='Blues', xticklabels=labels, yticklabels=labels)\n",
    "    plt.xlabel('Predicted labels')\n",
    "    plt.ylabel('True labels')\n",
    "    plt.title('Confusion Matrix')\n",
    "    plt.show()\n",
    "\n",
    "def plot_classification_report(y_true, y_pred, target_names):\n",
    "    report = classification_report(y_true, y_pred, target_names=target_names, output_dict=True, zero_division=1)\n",
    "    plt.figure(figsize=(8, 6))\n",
    "    sns.heatmap(pd.DataFrame(report).iloc[:-1, :].T, annot=True, cmap='Blues')\n",
    "    plt.title('Classification Report')\n",
    "    plt.show()\n",
    "\n",
    "target_names = ['World', 'Sports', 'Business', 'Science/Technology']\n",
    "\n",
    "plot_confusion_matrix(y_test_true, y_test_pred, labels=[0, 1, 2, 3])\n",
    "\n",
    "plot_classification_report(y_test_true, y_test_pred, target_names)"
   ]
  },
  {
   "cell_type": "code",
   "execution_count": 39,
   "id": "6894c608",
   "metadata": {},
   "outputs": [
    {
     "ename": "AttributeError",
     "evalue": "'numpy.ndarray' object has no attribute 'str'",
     "output_type": "error",
     "traceback": [
      "\u001b[0;31m---------------------------------------------------------------------------\u001b[0m",
      "\u001b[0;31mAttributeError\u001b[0m                            Traceback (most recent call last)",
      "\u001b[0;32m/tmp/ipykernel_9592/365431988.py\u001b[0m in \u001b[0;36m<module>\u001b[0;34m\u001b[0m\n\u001b[1;32m    100\u001b[0m \u001b[0mtrain_data\u001b[0m \u001b[0;34m=\u001b[0m \u001b[0mpd\u001b[0m\u001b[0;34m.\u001b[0m\u001b[0mread_csv\u001b[0m\u001b[0;34m(\u001b[0m\u001b[0;34m'NLP3/train.csv'\u001b[0m\u001b[0;34m)\u001b[0m\u001b[0;34m\u001b[0m\u001b[0;34m\u001b[0m\u001b[0m\n\u001b[1;32m    101\u001b[0m \u001b[0mtest_data\u001b[0m \u001b[0;34m=\u001b[0m \u001b[0mpd\u001b[0m\u001b[0;34m.\u001b[0m\u001b[0mread_csv\u001b[0m\u001b[0;34m(\u001b[0m\u001b[0;34m'NLP3/test.csv'\u001b[0m\u001b[0;34m)\u001b[0m\u001b[0;34m\u001b[0m\u001b[0;34m\u001b[0m\u001b[0m\n\u001b[0;32m--> 102\u001b[0;31m \u001b[0mtrain_data\u001b[0m\u001b[0;34m,\u001b[0m \u001b[0mtest_data\u001b[0m\u001b[0;34m,\u001b[0m \u001b[0mvocab\u001b[0m \u001b[0;34m=\u001b[0m \u001b[0mpreprocess_data\u001b[0m\u001b[0;34m(\u001b[0m\u001b[0mtrain_data\u001b[0m\u001b[0;34m,\u001b[0m \u001b[0mtest_data\u001b[0m\u001b[0;34m)\u001b[0m\u001b[0;34m\u001b[0m\u001b[0;34m\u001b[0m\u001b[0m\n\u001b[0m\u001b[1;32m    103\u001b[0m \u001b[0;34m\u001b[0m\u001b[0m\n\u001b[1;32m    104\u001b[0m \u001b[0;31m# Get Word2Vec embeddings\u001b[0m\u001b[0;34m\u001b[0m\u001b[0;34m\u001b[0m\u001b[0m\n",
      "\u001b[0;32m/tmp/ipykernel_9592/365431988.py\u001b[0m in \u001b[0;36mpreprocess_data\u001b[0;34m(train_data, test_data)\u001b[0m\n\u001b[1;32m     34\u001b[0m     \u001b[0mmin_df\u001b[0m \u001b[0;34m=\u001b[0m \u001b[0;36m5\u001b[0m  \u001b[0;31m# Minimum document frequency\u001b[0m\u001b[0;34m\u001b[0m\u001b[0;34m\u001b[0m\u001b[0m\n\u001b[1;32m     35\u001b[0m     \u001b[0mmax_df\u001b[0m \u001b[0;34m=\u001b[0m \u001b[0;36m0.9\u001b[0m  \u001b[0;31m# Maximum document frequency\u001b[0m\u001b[0;34m\u001b[0m\u001b[0;34m\u001b[0m\u001b[0m\n\u001b[0;32m---> 36\u001b[0;31m     \u001b[0mvocab\u001b[0m \u001b[0;34m=\u001b[0m \u001b[0mvocab\u001b[0m\u001b[0;34m[\u001b[0m\u001b[0;34m(\u001b[0m\u001b[0mvocab\u001b[0m\u001b[0;34m.\u001b[0m\u001b[0mstr\u001b[0m\u001b[0;34m.\u001b[0m\u001b[0mlen\u001b[0m\u001b[0;34m(\u001b[0m\u001b[0;34m)\u001b[0m \u001b[0;34m>\u001b[0m \u001b[0;36m1\u001b[0m\u001b[0;34m)\u001b[0m \u001b[0;34m&\u001b[0m \u001b[0;34m(\u001b[0m\u001b[0mtrain_data\u001b[0m\u001b[0;34m[\u001b[0m\u001b[0;34m'text'\u001b[0m\u001b[0;34m]\u001b[0m\u001b[0;34m.\u001b[0m\u001b[0mstr\u001b[0m\u001b[0;34m.\u001b[0m\u001b[0mcontains\u001b[0m\u001b[0;34m(\u001b[0m\u001b[0mvocab\u001b[0m\u001b[0;34m,\u001b[0m \u001b[0mcase\u001b[0m\u001b[0;34m=\u001b[0m\u001b[0;32mFalse\u001b[0m\u001b[0;34m)\u001b[0m\u001b[0;34m.\u001b[0m\u001b[0msum\u001b[0m\u001b[0;34m(\u001b[0m\u001b[0;34m)\u001b[0m \u001b[0;34m>=\u001b[0m \u001b[0mmin_df\u001b[0m\u001b[0;34m)\u001b[0m \u001b[0;34m&\u001b[0m \u001b[0;34m(\u001b[0m\u001b[0mtrain_data\u001b[0m\u001b[0;34m[\u001b[0m\u001b[0;34m'text'\u001b[0m\u001b[0;34m]\u001b[0m\u001b[0;34m.\u001b[0m\u001b[0mstr\u001b[0m\u001b[0;34m.\u001b[0m\u001b[0mcontains\u001b[0m\u001b[0;34m(\u001b[0m\u001b[0mvocab\u001b[0m\u001b[0;34m,\u001b[0m \u001b[0mcase\u001b[0m\u001b[0;34m=\u001b[0m\u001b[0;32mFalse\u001b[0m\u001b[0;34m)\u001b[0m\u001b[0;34m.\u001b[0m\u001b[0mmean\u001b[0m\u001b[0;34m(\u001b[0m\u001b[0;34m)\u001b[0m \u001b[0;34m<=\u001b[0m \u001b[0mmax_df\u001b[0m\u001b[0;34m)\u001b[0m\u001b[0;34m]\u001b[0m\u001b[0;34m\u001b[0m\u001b[0;34m\u001b[0m\u001b[0m\n\u001b[0m\u001b[1;32m     37\u001b[0m \u001b[0;34m\u001b[0m\u001b[0m\n\u001b[1;32m     38\u001b[0m     \u001b[0;32mreturn\u001b[0m \u001b[0mtrain_data\u001b[0m\u001b[0;34m,\u001b[0m \u001b[0mtest_data\u001b[0m\u001b[0;34m,\u001b[0m \u001b[0mvocab\u001b[0m\u001b[0;34m\u001b[0m\u001b[0;34m\u001b[0m\u001b[0m\n",
      "\u001b[0;31mAttributeError\u001b[0m: 'numpy.ndarray' object has no attribute 'str'"
     ]
    }
   ],
   "source": [
    "import pandas as pd\n",
    "import numpy as np\n",
    "from gensim.models import Word2Vec\n",
    "import torch\n",
    "import torch.nn as nn\n",
    "from torch.utils.data import DataLoader, Dataset\n",
    "from sklearn.metrics import confusion_matrix, f1_score\n",
    "import nltk\n",
    "from nltk.corpus import stopwords\n",
    "from nltk.stem import PorterStemmer\n",
    "\n",
    "# Load the CSV files\n",
    "train_data = pd.read_csv('NLP3/train.csv')\n",
    "test_data = pd.read_csv('NLP3/test.csv')\n",
    "\n",
    "# Data Preprocessing\n",
    "def preprocess_data(train_data, test_data):\n",
    "    # Convert to lowercase\n",
    "    train_data['text'] = train_data['text'].lower()\n",
    "    test_data['text'] = test_data['text'].str.lower()\n",
    "\n",
    "    # Remove stop words\n",
    "    stop_words = set(stopwords.words('english'))\n",
    "    train_data['text'] = train_data['text'].apply(lambda x: ' '.join([word for word in str(x).split() if word not in stop_words]))\n",
    "    test_data['text'] = test_data['text'].apply(lambda x: ' '.join([word for word in str(x).split() if word not in stop_words]))\n",
    "\n",
    "\n",
    "    # Create vocabulary\n",
    "    vocab = train_data['text'].str.split().explode().unique()\n",
    "    min_df = 5  # Minimum document frequency\n",
    "    max_df = 0.9  # Maximum document frequency\n",
    "    vocab = vocab[(vocab.str.len() > 1) & (train_data['text'].str.contains(vocab, case=False).sum() >= min_df) & (train_data['text'].str.contains(vocab, case=False).mean() <= max_df)]\n",
    "    \n",
    "    return train_data, test_data, vocab\n",
    "\n",
    "# Word2Vec Model\n",
    "def get_word2vec_embeddings(train_data, test_data, vocab):\n",
    "    # Train Word2Vec model\n",
    "    w2v_model = Word2Vec(sentences=train_data['text'].str.split(), vector_size=300, window=5, min_count=1, workers=4)\n",
    "    \n",
    "    # Get word embeddings\n",
    "    train_embeddings = [w2v_model.wv[word] for word in train_data['text'].str.split().explode() if word in w2v_model.wv]\n",
    "    test_embeddings = [w2v_model.wv[word] for word in test_data['text'].str.split().explode() if word in w2v_model.wv]\n",
    "    \n",
    "    # Compute average embeddings for each sentence\n",
    "    train_X = [np.mean(emb, axis=0) for emb in train_embeddings]\n",
    "    test_X = [np.mean(emb, axis=0) for emb in test_embeddings]\n",
    "    \n",
    "    return train_X, test_X\n",
    "\n",
    "# NN Layers\n",
    "class W2VClassifier(nn.Module):\n",
    "    def __init__(self, input_dim, output_dim):\n",
    "        super(W2VClassifier, self).__init__()\n",
    "        self.fc1 = nn.Linear(input_dim, 128)\n",
    "        self.fc2 = nn.Linear(128, output_dim)\n",
    "        self.relu = nn.ReLU()\n",
    "\n",
    "    def forward(self, x):\n",
    "        x = self.fc1(x)\n",
    "        x = self.relu(x)\n",
    "        x = self.fc2(x)\n",
    "        return x\n",
    "\n",
    "# Training and Evaluation\n",
    "def train_w2v_model(train_X, train_y, val_X, val_y, num_epochs=10):\n",
    "    model = W2VClassifier(input_dim=300, output_dim=4)\n",
    "    optimizer = torch.optim.Adam(model.parameters(), lr=0.001)\n",
    "    criterion = nn.CrossEntropyLoss()\n",
    "\n",
    "    for epoch in range(num_epochs):\n",
    "        model.train()\n",
    "        train_loss = 0\n",
    "        for i in range(len(train_X)):\n",
    "            optimizer.zero_grad()\n",
    "            output = model(torch.tensor(train_X[i]).unsqueeze(0))\n",
    "            loss = criterion(output, torch.tensor([train_y[i]]))\n",
    "            loss.backward()\n",
    "            optimizer.step()\n",
    "            train_loss += loss.item()\n",
    "\n",
    "        model.eval()\n",
    "        val_loss = 0\n",
    "        with torch.no_grad():\n",
    "            for i in range(len(val_X)):\n",
    "                output = model(torch.tensor(val_X[i]).unsqueeze(0))\n",
    "                loss = criterion(output, torch.tensor([val_y[i]]))\n",
    "                val_loss += loss.item()\n",
    "\n",
    "        print(f'Epoch {epoch+1}/{num_epochs}, Train Loss: {train_loss/len(train_X)}, Val Loss: {val_loss/len(val_X)}')\n",
    "\n",
    "    return model\n",
    "\n",
    "# Task 1A\n",
    "# Preprocess the data\n",
    "train_data = pd.read_csv('NLP3/train.csv')\n",
    "test_data = pd.read_csv('NLP3/test.csv')\n",
    "train_data, test_data, vocab = preprocess_data(train_data, test_data)\n",
    "\n",
    "# Get Word2Vec embeddings\n",
    "train_X, test_X = get_word2vec_embeddings(train_data, test_data, vocab)\n",
    "\n",
    "# Split the training data into train and validation sets\n",
    "from sklearn.model_selection import train_test_split\n",
    "train_X, val_X, train_y, val_y = train_test_split(train_X, train_data['label'], test_size=0.1, random_state=42)\n",
    "\n",
    "# Train the W2V model\n",
    "model = train_w2v_model(train_X, train_data['label'], val_X, val_y, num_epochs=10)\n",
    "\n",
    "# Evaluate the model on the test set\n",
    "test_preds = [model(torch.tensor(x).unsqueeze(0)).argmax().item() for x in test_X]\n",
    "test_acc = (test_data['label'] == test_preds).mean()\n",
    "test_f1 = f1_score(test_data['label'], test_preds, average='macro')\n",
    "\n",
    "print(f'Test Accuracy: {test_acc:.4f}')\n",
    "print(f'Test Macro F1-Score: {test_f1:.4f}')\n",
    "\n",
    "# Save the predictions\n",
    "test_data['preds'] = test_preds\n",
    "test_data[['text', 'label', 'preds']].to_csv('w2v_test.csv', index=False)\n"
   ]
  }
 ],
 "metadata": {
  "kernelspec": {
   "display_name": "Python 3 (ipykernel)",
   "language": "python",
   "name": "python3"
  },
  "language_info": {
   "codemirror_mode": {
    "name": "ipython",
    "version": 3
   },
   "file_extension": ".py",
   "mimetype": "text/x-python",
   "name": "python",
   "nbconvert_exporter": "python",
   "pygments_lexer": "ipython3",
   "version": "3.10.12"
  }
 },
 "nbformat": 4,
 "nbformat_minor": 5
}
