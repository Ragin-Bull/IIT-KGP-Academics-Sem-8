{
 "cells": [
  {
   "cell_type": "code",
   "execution_count": 6,
   "id": "1ab282a2",
   "metadata": {},
   "outputs": [],
   "source": [
    "from Crypto.Random import random\n",
    "from Crypto.Util.number import GCD, inverse\n",
    "\n",
    "# Function to generate a random prime number of bit length n\n",
    "def generate_prime(n):\n",
    "    while True:\n",
    "        p = random.getrandbits(n)\n",
    "        if GCD(p - 1, 2) == 1 and pow(2, p - 1, p) == 1:\n",
    "            return p\n",
    "\n",
    "# Function to generate a random generator g for a prime order q\n",
    "def generate_generator(q):\n",
    "    while True:\n",
    "        g = random.randint(2, q - 1)\n",
    "        if pow(g, (q - 1) // 2, q) != 1 and pow(g, q - 1, q) == 1:\n",
    "            return g"
   ]
  },
  {
   "cell_type": "code",
   "execution_count": 7,
   "id": "cbc3af97",
   "metadata": {},
   "outputs": [],
   "source": [
    "# Function to calculate the commitment z = g^r mod q\n",
    "def calculate_commitment(g, r, q):\n",
    "    return pow(g, r, q)\n",
    "\n",
    "# Function to generate the challenge e\n",
    "def generate_challenge(t):\n",
    "    return random.getrandbits(t)\n",
    "\n",
    "# Function to calculate the response z = r + e*w mod q\n",
    "def calculate_response(r, e, x, q):\n",
    "    w = pow(g, x, q)\n",
    "    return (r + e * w) % q\n",
    "\n",
    "# Function to verify the proof\n",
    "def verify_proof(g, h, q, z, e):\n",
    "    return z == (pow(g, r, q) * pow(h, e, q)) % q"
   ]
  },
  {
   "cell_type": "code",
   "execution_count": 8,
   "id": "a11fb12a",
   "metadata": {},
   "outputs": [
    {
     "ename": "KeyboardInterrupt",
     "evalue": "",
     "output_type": "error",
     "traceback": [
      "\u001b[0;31m---------------------------------------------------------------------------\u001b[0m",
      "\u001b[0;31mKeyboardInterrupt\u001b[0m                         Traceback (most recent call last)",
      "\u001b[0;32m/tmp/ipykernel_7203/3473500041.py\u001b[0m in \u001b[0;36m<module>\u001b[0;34m\u001b[0m\n\u001b[1;32m      1\u001b[0m \u001b[0;31m# Parameters\u001b[0m\u001b[0;34m\u001b[0m\u001b[0;34m\u001b[0m\u001b[0m\n\u001b[1;32m      2\u001b[0m \u001b[0mt\u001b[0m \u001b[0;34m=\u001b[0m \u001b[0;36m256\u001b[0m  \u001b[0;31m# Length of the challenge\u001b[0m\u001b[0;34m\u001b[0m\u001b[0;34m\u001b[0m\u001b[0m\n\u001b[0;32m----> 3\u001b[0;31m \u001b[0mq\u001b[0m \u001b[0;34m=\u001b[0m \u001b[0mgenerate_prime\u001b[0m\u001b[0;34m(\u001b[0m\u001b[0;36m2048\u001b[0m\u001b[0;34m)\u001b[0m  \u001b[0;31m# Prime order\u001b[0m\u001b[0;34m\u001b[0m\u001b[0;34m\u001b[0m\u001b[0m\n\u001b[0m\u001b[1;32m      4\u001b[0m \u001b[0mg\u001b[0m \u001b[0;34m=\u001b[0m \u001b[0mgenerate_generator\u001b[0m\u001b[0;34m(\u001b[0m\u001b[0mq\u001b[0m\u001b[0;34m)\u001b[0m  \u001b[0;31m# Generator\u001b[0m\u001b[0;34m\u001b[0m\u001b[0;34m\u001b[0m\u001b[0m\n\u001b[1;32m      5\u001b[0m \u001b[0mx\u001b[0m \u001b[0;34m=\u001b[0m \u001b[0mrandom\u001b[0m\u001b[0;34m.\u001b[0m\u001b[0mrandint\u001b[0m\u001b[0;34m(\u001b[0m\u001b[0;36m1\u001b[0m\u001b[0;34m,\u001b[0m \u001b[0mq\u001b[0m \u001b[0;34m-\u001b[0m \u001b[0;36m1\u001b[0m\u001b[0;34m)\u001b[0m  \u001b[0;31m# Secret value\u001b[0m\u001b[0;34m\u001b[0m\u001b[0;34m\u001b[0m\u001b[0m\n",
      "\u001b[0;32m/tmp/ipykernel_7203/1370600530.py\u001b[0m in \u001b[0;36mgenerate_prime\u001b[0;34m(n)\u001b[0m\n\u001b[1;32m      6\u001b[0m     \u001b[0;32mwhile\u001b[0m \u001b[0;32mTrue\u001b[0m\u001b[0;34m:\u001b[0m\u001b[0;34m\u001b[0m\u001b[0;34m\u001b[0m\u001b[0m\n\u001b[1;32m      7\u001b[0m         \u001b[0mp\u001b[0m \u001b[0;34m=\u001b[0m \u001b[0mrandom\u001b[0m\u001b[0;34m.\u001b[0m\u001b[0mgetrandbits\u001b[0m\u001b[0;34m(\u001b[0m\u001b[0mn\u001b[0m\u001b[0;34m)\u001b[0m\u001b[0;34m\u001b[0m\u001b[0;34m\u001b[0m\u001b[0m\n\u001b[0;32m----> 8\u001b[0;31m         \u001b[0;32mif\u001b[0m \u001b[0mGCD\u001b[0m\u001b[0;34m(\u001b[0m\u001b[0mp\u001b[0m \u001b[0;34m-\u001b[0m \u001b[0;36m1\u001b[0m\u001b[0;34m,\u001b[0m \u001b[0;36m2\u001b[0m\u001b[0;34m)\u001b[0m \u001b[0;34m==\u001b[0m \u001b[0;36m1\u001b[0m \u001b[0;32mand\u001b[0m \u001b[0mpow\u001b[0m\u001b[0;34m(\u001b[0m\u001b[0;36m2\u001b[0m\u001b[0;34m,\u001b[0m \u001b[0mp\u001b[0m \u001b[0;34m-\u001b[0m \u001b[0;36m1\u001b[0m\u001b[0;34m,\u001b[0m \u001b[0mp\u001b[0m\u001b[0;34m)\u001b[0m \u001b[0;34m==\u001b[0m \u001b[0;36m1\u001b[0m\u001b[0;34m:\u001b[0m\u001b[0;34m\u001b[0m\u001b[0;34m\u001b[0m\u001b[0m\n\u001b[0m\u001b[1;32m      9\u001b[0m             \u001b[0;32mreturn\u001b[0m \u001b[0mp\u001b[0m\u001b[0;34m\u001b[0m\u001b[0;34m\u001b[0m\u001b[0m\n\u001b[1;32m     10\u001b[0m \u001b[0;34m\u001b[0m\u001b[0m\n",
      "\u001b[0;31mKeyboardInterrupt\u001b[0m: "
     ]
    }
   ],
   "source": [
    "# Parameters\n",
    "t = 256  # Length of the challenge\n",
    "q = generate_prime(2048)  # Prime order\n",
    "g = generate_generator(q)  # Generator\n",
    "x = random.randint(1, q - 1)  # Secret value\n",
    "\n",
    "# Prover\n",
    "r = random.randint(1, q - 1)  # Random value\n",
    "h = pow(g, x, q)  # Group element\n",
    "a = calculate_commitment(g, r, q)  # Prover's message\n",
    "e = generate_challenge(t)  # Verifier's challenge\n",
    "z = calculate_response(r, e, x, q)  # Prover's response\n",
    "\n",
    "# Verifier\n",
    "if verify_proof(g, h, q, z, e):\n",
    "    print(\"Proof accepted!\")\n",
    "else:\n",
    "    print(\"Proof rejected!\")"
   ]
  }
 ],
 "metadata": {
  "kernelspec": {
   "display_name": "Python 3 (ipykernel)",
   "language": "python",
   "name": "python3"
  },
  "language_info": {
   "codemirror_mode": {
    "name": "ipython",
    "version": 3
   },
   "file_extension": ".py",
   "mimetype": "text/x-python",
   "name": "python",
   "nbconvert_exporter": "python",
   "pygments_lexer": "ipython3",
   "version": "3.10.12"
  }
 },
 "nbformat": 4,
 "nbformat_minor": 5
}
